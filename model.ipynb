{
    "cells": [
        {
            "cell_type": "code",
            "execution_count": 1,
            "id": "6746f1d6",
            "metadata": {
                "trusted": true
            },
            "outputs": [],
            "source": "import pandas as pd\nimport ast\nimport torch.nn as nn\nimport torch\nfrom torch.utils.data import Dataset\nfrom torch.utils.data import DataLoader\nfrom torch.autograd import Variable"
        },
        {
            "cell_type": "markdown",
            "id": "94d1f05b",
            "metadata": {},
            "source": "### Load Data"
        },
        {
            "cell_type": "code",
            "execution_count": 21,
            "id": "4b1ad814",
            "metadata": {
                "trusted": true
            },
            "outputs": [],
            "source": "class RedDataset(Dataset):\n    def __init__(self, datafile, train):\n        self.data = pd.read_csv(datafile)\n        self.data = self.data[self.data['train'] == train]\n\n    def __len__(self):\n        return self.data.shape[0]\n\n    def __getitem__(self, idx):\n        item = self.data.loc[idx]\n        print(item)\n        return torch.tensor(ast.literal_eval(item['data'])), torch.tensor(item['label'])"
        },
        {
            "cell_type": "code",
            "execution_count": 22,
            "id": "8940bb0f",
            "metadata": {
                "trusted": true
            },
            "outputs": [],
            "source": "train_data = RedDataset('RedData.csv', train=True)\ntest_data = RedDataset('RedData.csv', train=False)\n\nloaders = {\n    'train': DataLoader(train_data,\n                        batch_size=100,\n                        shuffle=True,\n                        num_workers=1),\n\n    'test': DataLoader(test_data,\n                       batch_size=100,\n                       shuffle=True,\n                       num_workers=1),\n}"
        },
        {
            "cell_type": "markdown",
            "id": "a57c837d",
            "metadata": {},
            "source": "### Model architecture"
        },
        {
            "cell_type": "code",
            "execution_count": null,
            "id": "f1af98da",
            "metadata": {
                "trusted": true
            },
            "outputs": [],
            "source": "class RedModel(nn.Module):\n    def __init__(self):\n        super(RedModel, self).__init__()\n        self.linear1 = nn.Linear()\n        self.relu2 = nn.ReLU()\n        self.out = nn.Linear(32 * 7 * 7, 10)\n\n    def forward(self, x):\n        x1 = self.conv1(x)\n        x2 = self.relu1(x1)\n        x3 = self.pool1(x2)\n        x4 = self.conv2(x3)\n        x5 = self.relu2(x4)\n        x6 = self.pool2(x5)\n        x7 = x6.view(x6.size(0), -1)\n        output = self.out(x7)\n        return {\n            'in': x,\n            'out': output,\n            'conv1': x1,\n            'relu1': x2,\n            'pool1': x3,\n            'conv2': x4,\n            'relu2': x5,\n            'pool2': x6,\n            'x7': x7\n        }"
        },
        {
            "cell_type": "markdown",
            "id": "ae90f647",
            "metadata": {},
            "source": "### Train model"
        },
        {
            "cell_type": "code",
            "execution_count": null,
            "id": "7a1284f6",
            "metadata": {
                "trusted": true
            },
            "outputs": [],
            "source": "device = torch.device('cuda' if torch.cuda.is_available() else 'cpu')\nprint(f'Device: {device}')\n\ncnn = RedModel()\nloss_func = nn.CrossEntropyLoss()\noptimizer = torch.optim.Adam(cnn.parameters(), lr=0.01)\nnum_epochs = 10\n\n\ndef train(num_epochs, cnn, loaders):\n\n    cnn.train()\n\n    # Train the model\n    total_step = len(loaders['train'])\n\n    for epoch in range(num_epochs):\n        for i, (images, labels) in enumerate(loaders['train']):\n\n            # gives batch data, normalize x when iterate train_loader\n            b_x = Variable(images)   # batch x\n            b_y = Variable(labels)   # batch youtput = cnn(b_x)[0]\n\n            results = cnn(b_x)['out']\n            loss = loss_func(results, b_y)\n\n            # clear gradients for this training step\n            optimizer.zero_grad()\n\n            # backpropagation, compute gradients\n            loss.backward()                # apply gradients\n            optimizer.step()\n\n            if (i + 1) % 100 == 0:\n                print('Epoch [{}/{}], Step [{}/{}], Loss: {:.4f}'\n                      .format(epoch + 1, num_epochs, i + 1, total_step, loss.item()))\n                pass\n\n        pass\n\n    pass\n\n\ntrain(num_epochs, cnn, loaders)\n\n\ndef test():\n    cnn.eval()\n    with torch.no_grad():\n        for images, labels in loaders['test']:\n            results = cnn(images)\n            pred_y = torch.max(results['out'], 1)[1].data.squeeze()\n            accuracy = (pred_y == labels).sum().item() / float(labels.size(0))\n            pass\n\n    print('Test Accuracy of the model on the 10000 test images: %.2f' % accuracy)\n    pass\n\n\ntest()\n\ntorch.save(cnn.state_dict(), 'cnn.pt')"
        }
    ],
    "metadata": {
        "kernelspec": {
            "display_name": "Python 3 (ipykernel)",
            "language": "python",
            "name": "python3"
        },
        "language_info": {
            "codemirror_mode": {
                "name": "ipython",
                "version": 3
            },
            "file_extension": ".py",
            "mimetype": "text/x-python",
            "name": "python",
            "nbconvert_exporter": "python",
            "pygments_lexer": "ipython3",
            "version": "3.9.7"
        },
        "toc": {
            "base_numbering": 1,
            "nav_menu": {},
            "number_sections": true,
            "sideBar": true,
            "skip_h1_title": false,
            "title_cell": "Table of Contents",
            "title_sidebar": "Contents",
            "toc_cell": false,
            "toc_position": {},
            "toc_section_display": true,
            "toc_window_display": false
        }
    },
    "nbformat": 4,
    "nbformat_minor": 5
}