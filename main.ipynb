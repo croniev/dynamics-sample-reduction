{
    "cells": [
        {
            "cell_type": "code",
            "execution_count": 1,
            "id": "37de5d1d",
            "metadata": {
                "trusted": true
            },
            "outputs": [],
            "source": "import numpy as np\nimport pandas as pd\nimport matplotlib.pyplot as plt\nfrom torch.utils.data import DataLoader\nfrom torchvision import datasets\nfrom torchvision.transforms import ToTensor\n# from torch.nn.functional import relu\n# from torch.nn.functional import tanh\n# from torch.nn.functional import sigmoid\nfrom scipy.fftpack import dct, idct\nfrom scipy.signal import convolve2d\nfrom skimage.measure import block_reduce"
        },
        {
            "cell_type": "markdown",
            "id": "51170385",
            "metadata": {},
            "source": "## Reduce the data size by shrinking the image and allow symbolic dynamics to occur (based on doppler-effect)."
        },
        {
            "cell_type": "markdown",
            "id": "443daaa2",
            "metadata": {},
            "source": "### Load the data"
        },
        {
            "cell_type": "code",
            "execution_count": 2,
            "id": "2f3d6d20",
            "metadata": {
                "trusted": true
            },
            "outputs": [],
            "source": "train_data = datasets.MNIST(\n    root='data',\n    train=True,\n    transform=ToTensor(),\n    download=True,\n)\ntest_data = datasets.MNIST(\n    root='data',\n    train=False,\n    transform=ToTensor(),\n)\ndata_len = {'train': len(train_data), 'test': len(test_data)}\n\nloaders = {\n    'train': DataLoader(train_data,\n                        batch_size=100,\n                        shuffle=True,\n                        num_workers=1),\n\n    'test': DataLoader(test_data,\n                       batch_size=100,\n                       shuffle=True,\n                       num_workers=1),\n}"
        },
        {
            "cell_type": "markdown",
            "id": "e3551fb7",
            "metadata": {},
            "source": "### Symbolic dynamics through iteration and non-linearity.\nThrough multiple iterations apply the doppler effect to the DCT of the images and apply convolution.  \nSave the results in a dataframe for easy loading."
        },
        {
            "cell_type": "code",
            "execution_count": 3,
            "id": "7ea2c76c",
            "metadata": {
                "trusted": true
            },
            "outputs": [],
            "source": "relu = np.vectorize(lambda x: np.maximum(0, x))\nsigmoid = np.vectorize(lambda x: 1 / (1 + np.exp(-x)))\ntanh = np.vectorize(np.tanh)"
        },
        {
            "cell_type": "code",
            "execution_count": 5,
            "id": "51985b09",
            "metadata": {
                "trusted": true
            },
            "outputs": [],
            "source": "def apply_dynamics(sample, f_act, velocities, v_o, v_m, kernel):\n    working_sample = np.copy(sample)\n\n    for i, v_s in enumerate(velocities):\n        # apply doppler effect to dct of sample\n        s_dct = dct(dct(working_sample.T, norm='ortho').T, norm='ortho')  # decompose\n        s_dct = ((v_m + v_o) / (v_m + v_s)) * s_dct  # doppler-effect\n        s_dct = f_act(s_dct)  # activation function\n        working_sample = idct(idct(s_dct.T, norm='ortho').T, norm='ortho')  # recompose\n        working_sample = convolve2d(working_sample, kernel, mode='valid')  # convolution\n        # if i % 4 == 1:\n        #     working_sample = block_reduce(working_sample, (2, 2), np.mean, cval=0.5)\n\n    return working_sample"
        },
        {
            "cell_type": "code",
            "execution_count": null,
            "id": "9d80f9df",
            "metadata": {
                "trusted": true
            },
            "outputs": [],
            "source": "iters = 16\nvelocities = [-(i + 1) / (iters / 3) for i in range(iters)]  # negative if moving towards observer\nf_act = tanh  # relu, tanh, sigmoid\n# velocities = range(iters)\n# velocities = np.full(iters, 1.5)\nv_o = 0  # positive if moving towards source\nv_m = 5.022\nkernel = np.array([[0.25, 0.25],\n                   [0.25, 0.25]])\n\ndf_results = pd.DataFrame(columns=['data', 'label', 'train'])\nfor dset in [\"train\", \"test\"]:\n    batch_size = 100\n    batches = data_len[dset] / batch_size\n    print(f\"Begin reducing {dset}\")\n    for b, (images, labels) in enumerate(loaders[dset]):\n        if b == batches:\n            break\n        for i in range(batch_size):\n            result = apply_dynamics(images[i].numpy()[0], f_act, velocities, v_o, v_m, kernel)\n            result_str = np.array2string(result, separator=',')\n            df_results = pd.concat([df_results, pd.DataFrame([[result_str, labels[i].numpy(), dset == \"train\"]], columns=df_results.columns)], ignore_index=True)\n\n        if (b + 1) % 30 == 0:\n            print('Reduced [{}/{}] {} batches for {} iterations'\n                  .format(b + 1, batches, dset, iters))\n\nprint(df_results.shape)\ndf_results.to_csv(f'RedData/RedData_{iters}i.csv', index=False)"
        },
        {
            "cell_type": "markdown",
            "id": "82cb69bb",
            "metadata": {},
            "source": "### Visualization\nChanging `iters` determines the size of the output."
        },
        {
            "cell_type": "code",
            "execution_count": 19,
            "id": "e660decf",
            "metadata": {
                "trusted": true
            },
            "outputs": [
                {
                    "name": "stdout",
                    "output_type": "stream",
                    "text": "torch.Size([28, 28]) --> (3, 3)\n"
                },
                {
                    "data": {
                        "text/plain": "<matplotlib.image.AxesImage at 0x7d6f27ee3e80>"
                    },
                    "execution_count": 19,
                    "metadata": {},
                    "output_type": "execute_result"
                },
                {
                    "data": {
                        "image/png": "[encoded data removed]",
                        "text/plain": "<Figure size 200x200 with 1 Axes>"
                    },
                    "metadata": {},
                    "output_type": "display_data"
                },
                {
                    "data": {
                        "image/png": "[encoded data removed]",
                        "text/plain": "<Figure size 200x200 with 1 Axes>"
                    },
                    "metadata": {},
                    "output_type": "display_data"
                }
            ],
            "source": "samples, labels = next(iter(loaders['train']))\nsample = samples[0][0]\n\niters = 8\nf_act = relu  # relu, tanh, sigmoid\n# vel_s is negative if moving towards observer\nvelocities = [-(i + 1) / (iters / 3) for i in range(iters)]\n# velocities = range(iters)\n# velocities = np.full(iters, 1.5)\nv_o = 0  # positive if moving towards source\nv_m = 5.022  # small tail to avoid division errors.\nkernel = np.array([[0.25, 0.25],\n                   [0.25, 0.25]])\n\nresult = apply_dynamics(sample.numpy(), f_act, velocities, v_o, v_m, kernel)\nprint(f\"{sample.shape} --> {result.shape}\")\n\nplt.figure(figsize=(2, 2))\nplt.imshow(sample, cmap='gray')\nplt.figure(2, figsize=(2, 2))\nplt.imshow(result, cmap='gray')"
        },
        {
            "cell_type": "code",
            "execution_count": null,
            "id": "ed9ac3b6",
            "metadata": {
                "trusted": true
            },
            "outputs": [],
            "source": "pass\npass\npass\npass\npass\npass\npass\npass\npass\npass\npass\npass\npass\npass\npass\npass\npass\npass\npass\npass\npass\npass\npass"
        }
    ],
    "metadata": {
        "kernelspec": {
            "display_name": "Python 3 (ipykernel)",
            "language": "python",
            "name": "python3"
        },
        "language_info": {
            "codemirror_mode": {
                "name": "ipython",
                "version": 3
            },
            "file_extension": ".py",
            "mimetype": "text/x-python",
            "name": "python",
            "nbconvert_exporter": "python",
            "pygments_lexer": "ipython3",
            "version": "3.9.7"
        },
        "toc": {
            "base_numbering": 1,
            "nav_menu": {},
            "number_sections": true,
            "sideBar": true,
            "skip_h1_title": false,
            "title_cell": "Table of Contents",
            "title_sidebar": "Contents",
            "toc_cell": false,
            "toc_position": {},
            "toc_section_display": true,
            "toc_window_display": false
        }
    },
    "nbformat": 4,
    "nbformat_minor": 5
}