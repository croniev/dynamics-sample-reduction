{
    "cells": [
        {
            "cell_type": "code",
            "execution_count": 128,
            "id": "8fdcec2b",
            "metadata": {
                "trusted": true
            },
            "outputs": [],
            "source": "import numpy as np\nimport matplotlib.pyplot as plt\nimport torch\nfrom torch.utils.data import DataLoader\nfrom torchvision import datasets\nfrom torchvision.transforms import ToTensor\n# from torch.nn.functional import relu\n# from torch.nn.functional import tanh\n# from torch.nn.functional import sigmoid\nfrom scipy.fftpack import dct, idct\nfrom scipy.signal import convolve2d"
        },
        {
            "cell_type": "markdown",
            "id": "2d2d15bf",
            "metadata": {},
            "source": "## Reduce the data size by shrinking the image and allow symbolic dynamics to occur (based on doppler-effect)."
        },
        {
            "cell_type": "markdown",
            "id": "6ebdd058",
            "metadata": {},
            "source": "### Load the data"
        },
        {
            "cell_type": "code",
            "execution_count": 2,
            "id": "a0d3af61",
            "metadata": {
                "trusted": true
            },
            "outputs": [],
            "source": "train_data = datasets.MNIST(\n    root='data',\n    train=True,\n    transform=ToTensor(),\n    download=True,\n)\ntest_data = datasets.MNIST(\n    root='data',\n    train=False,\n    transform=ToTensor(),\n)\n\nloaders = {\n    'train': DataLoader(train_data,\n                        batch_size=100,\n                        shuffle=True,\n                        num_workers=1),\n\n    'test': DataLoader(test_data,\n                       batch_size=100,\n                       shuffle=True,\n                       num_workers=1),\n}"
        },
        {
            "cell_type": "markdown",
            "id": "4f40c4e5",
            "metadata": {},
            "source": "### Symbolic dynamics through iteration and non-linearity."
        },
        {
            "cell_type": "code",
            "execution_count": 117,
            "id": "e0f06e6e",
            "metadata": {
                "trusted": true
            },
            "outputs": [],
            "source": "relu = np.vectorize(lambda x: np.maximum(0, x))\nsigmoid = np.vectorize(lambda x: 1 / (1 + np.exp(-x)))\ntanh = np.vectorize(np.tanh)"
        },
        {
            "cell_type": "code",
            "execution_count": 145,
            "id": "e7c6263b",
            "metadata": {
                "scrolled": false,
                "trusted": true
            },
            "outputs": [
                {
                    "name": "stdout",
                    "output_type": "stream",
                    "text": "torch.Size([28, 28]) --> torch.Size([18, 18])\n"
                },
                {
                    "data": {
                        "text/plain": "<matplotlib.image.AxesImage at 0x7bcd8ac9fd60>"
                    },
                    "execution_count": 145,
                    "metadata": {},
                    "output_type": "execute_result"
                },
                {
                    "data": {
                        "image/png": "[encoded data removed]",
                        "text/plain": "<Figure size 200x200 with 1 Axes>"
                    },
                    "metadata": {},
                    "output_type": "display_data"
                },
                {
                    "data": {
                        "image/png": "[encoded data removed]",
                        "text/plain": "<Figure size 200x200 with 1 Axes>"
                    },
                    "metadata": {},
                    "output_type": "display_data"
                }
            ],
            "source": "def apply_dynamics(tensor, f_act, velocities, v_o, v_m, kernel):\n    working_sample = sample.numpy()\n\n    for i, v_s in enumerate(velocities):\n        # apply doppler effect to dct of sample\n        s_dct = dct(dct(working_sample.T, norm='ortho').T, norm='ortho')\n        s_dct = ((v_m + v_o) / (v_m + v_s)) * s_dct  # doppler-effect\n        s_dct = f_act(s_dct)  # activation function\n        working_sample = idct(idct(s_dct.T, norm='ortho').T, norm='ortho')\n    # TODO: decrease sample size\n        working_sample = convolve2d(working_sample, kernel, mode='valid')\n\n    return torch.from_numpy(working_sample)\n\nsamples, labels = next(iter(loaders['train']))\nsample = samples[0][0]\n\niters = 10\nf_act = tanh  # relu, tanh, sigmoid\nvelocities = [-(i + 1) / (iters / 3) for i in range(iters)]  # negative if moving towards observer\n# velocities = range(iters)\n# velocities = np.full(iters, 1.5)\nv_o = 0  # positive if moving towards source\nv_m = 5.022\nkernel = np.array([[0.25, 0.25],\n                   [0.25, 0.25]])\n\nresult = apply_dynamics(sample, f_act, velocities, v_o, v_m, kernel)\nprint(f\"{sample.shape} --> {result.shape}\")\n\nplt.figure(figsize=(2, 2))\nplt.imshow(sample, cmap='gray')\nplt.figure(2, figsize=(2, 2))\nplt.imshow(result, cmap='gray')"
        }
    ],
    "metadata": {
        "kernelspec": {
            "display_name": "Python 3 (ipykernel)",
            "language": "python",
            "name": "python3"
        },
        "language_info": {
            "codemirror_mode": {
                "name": "ipython",
                "version": 3
            },
            "file_extension": ".py",
            "mimetype": "text/x-python",
            "name": "python",
            "nbconvert_exporter": "python",
            "pygments_lexer": "ipython3",
            "version": "3.9.7"
        },
        "toc": {
            "base_numbering": 1,
            "nav_menu": {},
            "number_sections": true,
            "sideBar": true,
            "skip_h1_title": false,
            "title_cell": "Table of Contents",
            "title_sidebar": "Contents",
            "toc_cell": false,
            "toc_position": {},
            "toc_section_display": true,
            "toc_window_display": false
        }
    },
    "nbformat": 4,
    "nbformat_minor": 5
}