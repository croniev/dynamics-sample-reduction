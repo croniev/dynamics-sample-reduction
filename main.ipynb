{
    "cells": [
        {
            "cell_type": "code",
            "execution_count": 1,
            "id": "948d8750",
            "metadata": {
                "trusted": true
            },
            "outputs": [],
            "source": "import numpy as np\nimport pandas as pd\nimport matplotlib.pyplot as plt\nfrom torch.utils.data import DataLoader\nfrom torchvision import datasets\nfrom torchvision.transforms import ToTensor\n# from torch.nn.functional import relu\n# from torch.nn.functional import tanh\n# from torch.nn.functional import sigmoid\nfrom scipy.fftpack import dct, idct\nfrom scipy.signal import convolve2d"
        },
        {
            "cell_type": "markdown",
            "id": "df9a0835",
            "metadata": {},
            "source": "## Reduce the data size by shrinking the image and allow symbolic dynamics to occur (based on doppler-effect)."
        },
        {
            "cell_type": "markdown",
            "id": "4803c904",
            "metadata": {},
            "source": "### Load the data"
        },
        {
            "cell_type": "code",
            "execution_count": 2,
            "id": "0ad646b1",
            "metadata": {
                "trusted": true
            },
            "outputs": [],
            "source": "train_data = datasets.MNIST(\n    root='data',\n    train=True,\n    transform=ToTensor(),\n    download=True,\n)\ntest_data = datasets.MNIST(\n    root='data',\n    train=False,\n    transform=ToTensor(),\n)\ndata_len = {'train': len(train_data), 'test': len(test_data)}\n\nloaders = {\n    'train': DataLoader(train_data,\n                        batch_size=100,\n                        shuffle=True,\n                        num_workers=1),\n\n    'test': DataLoader(test_data,\n                       batch_size=100,\n                       shuffle=True,\n                       num_workers=1),\n}"
        },
        {
            "cell_type": "markdown",
            "id": "542966ae",
            "metadata": {},
            "source": "### Symbolic dynamics through iteration and non-linearity.\nThrough multiple iterations apply the doppler effect to the DCT of the images and apply convolution.  \nSave the results in a dataframe for easy loading."
        },
        {
            "cell_type": "code",
            "execution_count": 3,
            "id": "d1d5e1a0",
            "metadata": {
                "trusted": true
            },
            "outputs": [],
            "source": "relu = np.vectorize(lambda x: np.maximum(0, x))\nsigmoid = np.vectorize(lambda x: 1 / (1 + np.exp(-x)))\ntanh = np.vectorize(np.tanh)"
        },
        {
            "cell_type": "code",
            "execution_count": 4,
            "id": "c497e859",
            "metadata": {
                "trusted": true
            },
            "outputs": [],
            "source": "def apply_dynamics(sample, f_act, velocities, v_o, v_m, kernel):\n    working_sample = np.copy(sample)\n\n    for i, v_s in enumerate(velocities):\n        # apply doppler effect to dct of sample\n        s_dct = dct(dct(working_sample.T, norm='ortho').T, norm='ortho')\n        s_dct = ((v_m + v_o) / (v_m + v_s)) * s_dct  # doppler-effect\n        s_dct = f_act(s_dct)  # activation function\n        working_sample = idct(idct(s_dct.T, norm='ortho').T, norm='ortho')\n        working_sample = convolve2d(working_sample, kernel, mode='valid')\n\n    return working_sample"
        },
        {
            "cell_type": "code",
            "execution_count": 5,
            "id": "fe6bc25c",
            "metadata": {
                "trusted": true
            },
            "outputs": [
                {
                    "name": "stdout",
                    "output_type": "stream",
                    "text": "Begin reducing train\nReduced [30/600.0] train batches for 12 iterations\nReduced [60/600.0] train batches for 12 iterations\nReduced [90/600.0] train batches for 12 iterations\nReduced [120/600.0] train batches for 12 iterations\nReduced [150/600.0] train batches for 12 iterations\nReduced [180/600.0] train batches for 12 iterations\nReduced [210/600.0] train batches for 12 iterations\nReduced [240/600.0] train batches for 12 iterations\nReduced [270/600.0] train batches for 12 iterations\nReduced [300/600.0] train batches for 12 iterations\nReduced [330/600.0] train batches for 12 iterations\nReduced [360/600.0] train batches for 12 iterations\nReduced [390/600.0] train batches for 12 iterations\nReduced [420/600.0] train batches for 12 iterations\nReduced [450/600.0] train batches for 12 iterations\nReduced [480/600.0] train batches for 12 iterations\nReduced [510/600.0] train batches for 12 iterations\nReduced [540/600.0] train batches for 12 iterations\nReduced [570/600.0] train batches for 12 iterations\nReduced [600/600.0] train batches for 12 iterations\nBegin reducing test\nReduced [30/100.0] test batches for 12 iterations\nReduced [60/100.0] test batches for 12 iterations\nReduced [90/100.0] test batches for 12 iterations\n(70000, 3)\nBegin reducing train\nReduced [30/600.0] train batches for 16 iterations\nReduced [60/600.0] train batches for 16 iterations\nReduced [90/600.0] train batches for 16 iterations\nReduced [120/600.0] train batches for 16 iterations\nReduced [150/600.0] train batches for 16 iterations\nReduced [180/600.0] train batches for 16 iterations\nReduced [210/600.0] train batches for 16 iterations\nReduced [240/600.0] train batches for 16 iterations\nReduced [270/600.0] train batches for 16 iterations\nReduced [300/600.0] train batches for 16 iterations\nReduced [330/600.0] train batches for 16 iterations\nReduced [360/600.0] train batches for 16 iterations\nReduced [390/600.0] train batches for 16 iterations\nReduced [420/600.0] train batches for 16 iterations\nReduced [450/600.0] train batches for 16 iterations\nReduced [480/600.0] train batches for 16 iterations\nReduced [510/600.0] train batches for 16 iterations\nReduced [540/600.0] train batches for 16 iterations\nReduced [570/600.0] train batches for 16 iterations\nReduced [600/600.0] train batches for 16 iterations\nBegin reducing test\nReduced [30/100.0] test batches for 16 iterations\nReduced [60/100.0] test batches for 16 iterations\nReduced [90/100.0] test batches for 16 iterations\n(70000, 3)\nBegin reducing train\nReduced [30/600.0] train batches for 18 iterations\nReduced [60/600.0] train batches for 18 iterations\nReduced [90/600.0] train batches for 18 iterations\nReduced [120/600.0] train batches for 18 iterations\nReduced [150/600.0] train batches for 18 iterations\nReduced [180/600.0] train batches for 18 iterations\nReduced [210/600.0] train batches for 18 iterations\nReduced [240/600.0] train batches for 18 iterations\nReduced [270/600.0] train batches for 18 iterations\nReduced [300/600.0] train batches for 18 iterations\nReduced [330/600.0] train batches for 18 iterations\nReduced [360/600.0] train batches for 18 iterations\nReduced [390/600.0] train batches for 18 iterations\nReduced [420/600.0] train batches for 18 iterations\nReduced [450/600.0] train batches for 18 iterations\nReduced [480/600.0] train batches for 18 iterations\nReduced [510/600.0] train batches for 18 iterations\nReduced [540/600.0] train batches for 18 iterations\nReduced [570/600.0] train batches for 18 iterations\nReduced [600/600.0] train batches for 18 iterations\nBegin reducing test\nReduced [30/100.0] test batches for 18 iterations\nReduced [60/100.0] test batches for 18 iterations\nReduced [90/100.0] test batches for 18 iterations\n(70000, 3)\nBegin reducing train\nReduced [30/600.0] train batches for 24 iterations\nReduced [60/600.0] train batches for 24 iterations\nReduced [90/600.0] train batches for 24 iterations\nReduced [120/600.0] train batches for 24 iterations\nReduced [150/600.0] train batches for 24 iterations\nReduced [180/600.0] train batches for 24 iterations\nReduced [210/600.0] train batches for 24 iterations\nReduced [240/600.0] train batches for 24 iterations\nReduced [270/600.0] train batches for 24 iterations\nReduced [300/600.0] train batches for 24 iterations\nReduced [330/600.0] train batches for 24 iterations\nReduced [360/600.0] train batches for 24 iterations\nReduced [390/600.0] train batches for 24 iterations\nReduced [420/600.0] train batches for 24 iterations\nReduced [450/600.0] train batches for 24 iterations\nReduced [480/600.0] train batches for 24 iterations\nReduced [510/600.0] train batches for 24 iterations\nReduced [540/600.0] train batches for 24 iterations\nReduced [570/600.0] train batches for 24 iterations\nReduced [600/600.0] train batches for 24 iterations\nBegin reducing test\nReduced [30/100.0] test batches for 24 iterations\nReduced [60/100.0] test batches for 24 iterations\nReduced [90/100.0] test batches for 24 iterations\n(70000, 3)\n"
                }
            ],
            "source": "iters = 16\nvelocities = [-(i + 1) / (iters / 3) for i in range(iters)]  # negative if moving towards observer\nf_act = tanh  # relu, tanh, sigmoid\n# velocities = range(iters)\n# velocities = np.full(iters, 1.5)\nv_o = 0  # positive if moving towards source\nv_m = 5.022\nkernel = np.array([[0.25, 0.25],\n                   [0.25, 0.25]])\n\ndf_results = pd.DataFrame(columns=['data', 'label', 'train'])\nfor dset in [\"train\", \"test\"]:\n    batch_size = 100\n    batches = data_len[dset] / batch_size\n    print(f\"Begin reducing {dset}\")\n    for b, (images, labels) in enumerate(loaders[dset]):\n        if b == batches:\n            break\n        for i in range(batch_size):\n            result = apply_dynamics(images[i].numpy()[0], f_act, velocities, v_o, v_m, kernel)\n            result_str = np.array2string(result, separator=',')\n            df_results = pd.concat([df_results, pd.DataFrame([[result_str, labels[i].numpy(), dset == \"train\"]], columns=df_results.columns)], ignore_index=True)\n\n        if (b + 1) % 30 == 0:\n            print('Reduced [{}/{}] {} batches for {} iterations'\n                  .format(b + 1, batches, dset, iters))\n\nprint(df_results.shape)\ndf_results.to_csv(f'RedData/RedData_{iters}i.csv', index=False)"
        },
        {
            "cell_type": "markdown",
            "id": "87113f00",
            "metadata": {},
            "source": "### Visualization\nChanging `iters` determines the size of the output."
        },
        {
            "cell_type": "code",
            "execution_count": 6,
            "id": "7de8c2f6",
            "metadata": {
                "trusted": true
            },
            "outputs": [
                {
                    "name": "stdout",
                    "output_type": "stream",
                    "text": "torch.Size([28, 28]) --> (12, 12)\n"
                },
                {
                    "data": {
                        "text/plain": "<matplotlib.image.AxesImage at 0x723175828f40>"
                    },
                    "execution_count": 6,
                    "metadata": {},
                    "output_type": "execute_result"
                },
                {
                    "data": {
                        "image/png": "[encoded data removed]",
                        "text/plain": "<Figure size 200x200 with 1 Axes>"
                    },
                    "metadata": {},
                    "output_type": "display_data"
                },
                {
                    "data": {
                        "image/png": "[encoded data removed]",
                        "text/plain": "<Figure size 200x200 with 1 Axes>"
                    },
                    "metadata": {},
                    "output_type": "display_data"
                }
            ],
            "source": "samples, labels = next(iter(loaders['train']))\nsample = samples[0][0]\n\niters = 16\nf_act = tanh  # relu, tanh, sigmoid\n# vel_s is negative if moving towards observer\nvelocities = [-(i + 1) / (iters / 3) for i in range(iters)]\n# velocities = range(iters)\n# velocities = np.full(iters, 1.5)\nv_o = 0  # positive if moving towards source\nv_m = 5.022\nkernel = np.array([[0.25, 0.25],\n                   [0.25, 0.25]])\n\nresult = apply_dynamics(sample.numpy(), f_act, velocities, v_o, v_m, kernel)\nprint(f\"{sample.shape} --> {result.shape}\")\n\nplt.figure(figsize=(2, 2))\nplt.imshow(sample, cmap='gray')\nplt.figure(2, figsize=(2, 2))\nplt.imshow(result, cmap='gray')"
        }
    ],
    "metadata": {
        "kernelspec": {
            "display_name": "Python 3 (ipykernel)",
            "language": "python",
            "name": "python3"
        },
        "language_info": {
            "codemirror_mode": {
                "name": "ipython",
                "version": 3
            },
            "file_extension": ".py",
            "mimetype": "text/x-python",
            "name": "python",
            "nbconvert_exporter": "python",
            "pygments_lexer": "ipython3",
            "version": "3.9.7"
        },
        "toc": {
            "base_numbering": 1,
            "nav_menu": {},
            "number_sections": true,
            "sideBar": true,
            "skip_h1_title": false,
            "title_cell": "Table of Contents",
            "title_sidebar": "Contents",
            "toc_cell": false,
            "toc_position": {},
            "toc_section_display": true,
            "toc_window_display": false
        }
    },
    "nbformat": 4,
    "nbformat_minor": 5
}