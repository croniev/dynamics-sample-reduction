{
    "cells": [
        {
            "cell_type": "code",
            "execution_count": null,
            "id": "c076512b",
            "metadata": {
                "trusted": true
            },
            "outputs": [],
            "source": "from itertools import product\nimport numpy as np\nimport pandas as pd\nimport matplotlib.pyplot as plt\nfrom torch.utils.data import DataLoader\nfrom torchvision import datasets\nfrom torchvision.transforms import ToTensor\n# from torch.nn.functional import relu\n# from torch.nn.functional import tanh\n# from torch.nn.functional import sigmoid\nfrom scipy.fftpack import dct, idct\nfrom scipy.signal import convolve2d\nfrom skimage.measure import block_reduce"
        },
        {
            "cell_type": "markdown",
            "id": "a77d4367",
            "metadata": {},
            "source": "## Reduce the data size by shrinking the image and allow symbolic dynamics to occur (based on doppler-effect)."
        },
        {
            "cell_type": "markdown",
            "id": "177e51a4",
            "metadata": {},
            "source": "### Load the data"
        },
        {
            "cell_type": "code",
            "execution_count": null,
            "id": "0b2ef90e",
            "metadata": {
                "trusted": true
            },
            "outputs": [],
            "source": "train_data = datasets.MNIST(\n    root='data',\n    train=True,\n    transform=ToTensor(),\n    download=True,\n)\ntest_data = datasets.MNIST(\n    root='data',\n    train=False,\n    transform=ToTensor(),\n)\ndata_len = {'train': len(train_data), 'test': len(test_data)}\n\nloaders = {\n    'train': DataLoader(train_data,\n                        batch_size=100,\n                        shuffle=True,\n                        num_workers=1),\n\n    'test': DataLoader(test_data,\n                       batch_size=100,\n                       shuffle=True,\n                       num_workers=1),\n}"
        },
        {
            "cell_type": "markdown",
            "id": "828ec0b3",
            "metadata": {},
            "source": "### Symbolic dynamics through iteration and non-linearity.\nThrough multiple iterations apply the doppler effect to the DCT of the images and apply convolution.  \nSave the results in a dataframe for easy loading."
        },
        {
            "cell_type": "code",
            "execution_count": null,
            "id": "57952cf4",
            "metadata": {
                "trusted": true
            },
            "outputs": [],
            "source": "relu = np.vectorize(lambda x: np.maximum(0, x))\n# sigmoid = np.vectorize(lambda x: 1 / (1 + np.exp(-x)))\ntanh = np.vectorize(np.tanh)"
        },
        {
            "cell_type": "code",
            "execution_count": null,
            "id": "d67f456c",
            "metadata": {
                "trusted": true
            },
            "outputs": [],
            "source": "def apply_dynamics(sample, iters, f_act, vel, v_o, v_m, kernel, conv=False, pool=False):\n    working_sample = np.copy(sample)\n\n    for i in range(iters):\n        v_s = vel(i, iters)\n        # apply doppler effect to dct of sample\n        s_dct = dct(dct(working_sample.T, norm='ortho').T, norm='ortho')  # decompose\n        s_dct = ((v_m + v_o) / (v_m + v_s)) * s_dct  # doppler-effect\n        s_dct = f_act(s_dct)  # activation function\n        working_sample = idct(idct(s_dct.T, norm='ortho').T, norm='ortho')  # recompose\n\n        # filter\n        working_sample[working_sample < 0.01] = 0.0005\n\n        if conv:\n            working_sample = convolve2d(working_sample, kernel, mode='valid')  # convolution\n\n        if pool and i % 4 == 1:\n            working_sample = block_reduce(working_sample, (2, 2), np.mean, cval=0.5)\n\n    return working_sample"
        },
        {
            "cell_type": "markdown",
            "id": "f7041659",
            "metadata": {},
            "source": "###### Visualization\nChanging `iters` determines the size of the output (if conv and/or pooling are on)."
        },
        {
            "cell_type": "code",
            "execution_count": null,
            "id": "5fac37de",
            "metadata": {
                "trusted": true
            },
            "outputs": [],
            "source": "samples, labels = next(iter(loaders['train']))\nsample = samples[0][0]\n\niters_list = [1, 2, 3, 4, 5, 7, 9, 11, 13, 16, 20, 24, 30]\n\n# vel_s is negative if moving towards observer\ndef v1(x, n):\n       return -(x + 1) / (n / 3)\ndef v2(x, n):\n    return x\ndef v3(x, n):\n    return 1.5\n\nf_v_list = list(product([relu, tanh], [v1, v2]))\n\nv_o = 0  # positive if moving towards source\nv_m = 5.022  # small tail to avoid division errors.\nkernel = np.array([[0.25, 0.25],\n                   [0.25, 0.25]])"
        },
        {
            "cell_type": "code",
            "execution_count": null,
            "id": "5a1abfb0",
            "metadata": {
                "trusted": true
            },
            "outputs": [],
            "source": "# No Conv, No Pool\nfig, axs = plt.subplots(len(iters_list), len(f_v_list), figsize=(6, 12))\n# fig.tight_layout(h_pad=0, w_pad=0)\naxs[0, 0].set_title(\"relu v1\")\naxs[0, 1].set_title(\"relu v2\")\naxs[0, 2].set_title(\"tanh v1\")\naxs[0, 3].set_title(\"tanh v2\")\nfor i, iters in enumerate(iters_list):\n    axs[i, 0].set_ylabel(f\"{iters}i\", rotation=0)\nfor i, f_v in list(product(range(len(iters_list)), range(len(f_v_list)))):\n    result = apply_dynamics(sample.numpy(), iters_list[i], f_v_list[f_v][0], f_v_list[f_v][1], v_o, v_m, kernel)\n    axs[i, f_v].imshow(result, cmap='gray')\n    axs[i, f_v].set_yticklabels([])\n    axs[i, f_v].set_xticklabels([])"
        },
        {
            "cell_type": "code",
            "execution_count": null,
            "id": "a0f3ade4",
            "metadata": {
                "trusted": true
            },
            "outputs": [],
            "source": "# Conv, No Pool\nfig, axs = plt.subplots(len(iters_list), len(f_v_list), figsize=(6, 12))\n# fig.tight_layout(h_pad=0, w_pad=0)\naxs[0, 0].set_title(\"relu v1\")\naxs[0, 1].set_title(\"relu v2\")\naxs[0, 2].set_title(\"tanh v1\")\naxs[0, 3].set_title(\"tanh v2\")\nfor i, iters in enumerate(iters_list):\n    axs[i, 0].set_ylabel(f\"{iters}i\", rotation=0)\nfor i, f_v in list(product(range(len(iters_list)), range(len(f_v_list)))):\n    result = apply_dynamics(sample.numpy(), iters_list[i], f_v_list[f_v][0], f_v_list[f_v][1], v_o, v_m, kernel, conv=True)\n    axs[i, f_v].imshow(result, cmap='gray')\n    axs[i, f_v].set_yticklabels([])\n    axs[i, f_v].set_xticklabels([])"
        },
        {
            "cell_type": "code",
            "execution_count": null,
            "id": "21f19573",
            "metadata": {
                "trusted": true
            },
            "outputs": [],
            "source": "# Conv, Pool\nfig, axs = plt.subplots(len(iters_list), len(f_v_list), figsize=(6, 12))\n# fig.tight_layout(h_pad=0, w_pad=0)\naxs[0, 0].set_title(\"relu v1\")\naxs[0, 1].set_title(\"relu v2\")\naxs[0, 2].set_title(\"tanh v1\")\naxs[0, 3].set_title(\"tanh v2\")\nfor i, iters in enumerate(iters_list):\n    axs[i, 0].set_ylabel(f\"{iters}i\", rotation=0)\nfor i, f_v in list(product(range(len(iters_list)), range(len(f_v_list)))):\n    result = apply_dynamics(sample.numpy(), iters_list[i], f_v_list[f_v][0], f_v_list[f_v][1], v_o, v_m, kernel, conv=True, pool=True)\n    axs[i, f_v].imshow(result, cmap='gray')\n    axs[i, f_v].set_yticklabels([])\n    axs[i, f_v].set_xticklabels([])"
        },
        {
            "cell_type": "markdown",
            "id": "f5b21eec",
            "metadata": {},
            "source": "###### Convert all data\nChanging `iters` determines the size of the output."
        },
        {
            "cell_type": "code",
            "execution_count": null,
            "id": "7b7d4a52",
            "metadata": {
                "trusted": true
            },
            "outputs": [],
            "source": "iters = 16\n# vel_s is negative if moving towards observer\ndef v1(x, n):\n    return -(x + 1) / (n / 3)\ndef v2(x, n):\n    return x\ndef v3(x, n):\n    return 1.5\nf_act = tanh  # relu, tanh\nv_o = 0  # positive if moving towards source\nv_m = 5.022\nkernel = np.array([[0.25, 0.25],\n                   [0.25, 0.25]])\n\ndf_results = pd.DataFrame(columns=['data', 'label', 'train'])\nfor dset in [\"train\", \"test\"]:\n    batch_size = 100\n    batches = data_len[dset] / batch_size\n    print(f\"Begin reducing {dset}\")\n    for b, (images, labels) in enumerate(loaders[dset]):\n        if b == batches:\n            break\n        for i in range(batch_size):\n            result = apply_dynamics(images[i].numpy()[0], iters, f_act, v1, v_o, v_m, kernel, conv=True)\n            result_str = np.array2string(result, separator=',')\n            df_results = pd.concat([df_results, pd.DataFrame([[result_str, labels[i].numpy(), dset == \"train\"]], columns=df_results.columns)], ignore_index=True)\n\n        if (b + 1) % 30 == 0:\n            print('Reduced [{}/{}] {} batches for {} iterations'\n                  .format(b + 1, batches, dset, iters))\n\nprint(df_results.shape)\ndf_results.to_csv(f'RedData/RedData_{iters}i.csv', index=False)"
        }
    ],
    "metadata": {
        "kernelspec": {
            "display_name": "Python 3 (ipykernel)",
            "language": "python",
            "name": "python3"
        },
        "language_info": {
            "codemirror_mode": {
                "name": "ipython",
                "version": 3
            },
            "file_extension": ".py",
            "mimetype": "text/x-python",
            "name": "python",
            "nbconvert_exporter": "python",
            "pygments_lexer": "ipython3",
            "version": "3.9.7"
        },
        "toc": {
            "base_numbering": 1,
            "nav_menu": {},
            "number_sections": true,
            "sideBar": true,
            "skip_h1_title": false,
            "title_cell": "Table of Contents",
            "title_sidebar": "Contents",
            "toc_cell": false,
            "toc_position": {},
            "toc_section_display": true,
            "toc_window_display": false
        }
    },
    "nbformat": 4,
    "nbformat_minor": 5
}