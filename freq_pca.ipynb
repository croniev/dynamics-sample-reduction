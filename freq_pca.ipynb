{
    "cells": [
        {
            "cell_type": "code",
            "execution_count": 1,
            "id": "5e1f0efb",
            "metadata": {
                "trusted": true
            },
            "outputs": [],
            "source": "from itertools import product\nimport numpy as np\nimport pandas as pd\nimport matplotlib.pyplot as plt\nfrom torch.utils.data import DataLoader\nfrom torchvision import datasets\nfrom torchvision.transforms import ToTensor\nfrom scipy.fftpack import dct, idct\nfrom sklearn.decomposition import PCA\nfrom sklearn.preprocessing import StandardScaler\nfrom skimage.measure import block_reduce"
        },
        {
            "cell_type": "code",
            "execution_count": 2,
            "id": "dfeda3db",
            "metadata": {
                "trusted": true
            },
            "outputs": [
                {
                    "name": "stdout",
                    "output_type": "stream",
                    "text": "{'train': 60000, 'test': 10000}\n"
                }
            ],
            "source": "train_data = datasets.MNIST(\n    root='data',\n    train=True,\n    transform=ToTensor(),\n    download=True,\n)\ntest_data = datasets.MNIST(\n    root='data',\n    train=False,\n    transform=ToTensor(),\n)\ndata_len = {'train': len(train_data), 'test': len(test_data)}\nprint(data_len)"
        },
        {
            "cell_type": "code",
            "execution_count": 27,
            "id": "80ba2087",
            "metadata": {
                "trusted": true
            },
            "outputs": [],
            "source": "def apply_dynamics(sample, iters, f_act, vel, v_o, v_m, pool=0):\n    working_sample = np.copy(sample)\n\n    for i in range(iters):\n        if pool > 0 and i > 0 and int(i % (iters / pool)) == 0:\n            working_sample = block_reduce(working_sample, (2, 2), cval=0.5)\n\n        v_s = vel(i, iters)\n        # apply doppler effect to sample\n        working_sample = ((v_m + v_o) / (v_m + v_s)) * working_sample  # doppler-effect\n        working_sample = f_act(working_sample)  # activation function\n\n    return working_sample"
        },
        {
            "cell_type": "code",
            "execution_count": 4,
            "id": "4895491f",
            "metadata": {
                "trusted": true
            },
            "outputs": [],
            "source": "# vel_s is negative if moving towards observer\ndef v1(x, n):\n    return -(x + 1) / (n / 3)\ndef v2(x, n):\n    return x\ndef v3(x, n):\n    return 1.5\n\ndef relu(x):\n    return np.maximum(0, x)\nrelu = np.vectorize(relu)\n# sigmoid = np.vectorize(lambda x: 1 / (1 + np.exp(-x)))\ntanh = np.vectorize(np.tanh)\n\nv_o = 0  # positive if moving towards source\nv_m = 5.022  # small tail to avoid division errors."
        },
        {
            "cell_type": "code",
            "execution_count": 30,
            "id": "5590083e",
            "metadata": {
                "trusted": true
            },
            "outputs": [
                {
                    "name": "stdout",
                    "output_type": "stream",
                    "text": "Applying symbol dynamics:\n|0%                |50%                |100%\n########################################\n(60000, 784)\nStandardising Results\nPerforming PCA on images\n(60000, 15)\nFinished!\n"
                }
            ],
            "source": "iters = 15\npool = 1  # Pooling is applied to sample after iters/pool iterations. Use 0 if no pooling is to applied\nf_act = relu  # relu, tanh\namount_data = 60000\npca_components = 15\n\n# Symbol dynamics\narr_dyn = np.array([])\nprint(\"Applying symbol dynamics:\\n|0%\" + \" \" * 16 + \"|50%\" + \" \" * 16 + \"|100%\")\nfor i in range(amount_data):\n    if i % int(amount_data/40) == 0:\n        print(\"#\", end='')\n    freq_sample = dct(dct(train_data[i][0][0].numpy().T, norm='ortho').T, norm='ortho')  # decompose sample\n    dyn_sample = apply_dynamics(freq_sample, iters, f_act, v2, v_o, v_m, pool)\n\n    # if used pooling, convert freq back to image space\n    if pool > 0:\n        dyn_sample = idct(idct(dyn_sample.T, norm='ortho').T, norm='ortho')\n\n    if i == 0:\n        arr_dyn = np.array([dyn_sample.reshape((-1))])\n    else:\n        arr_dyn = np.concat((arr_dyn, [dyn_sample.reshape((-1))]))\n\nprint('')\nprint(arr_dyn.shape)\ndf_dyn = pd.DataFrame(arr_dyn, columns=[f'x{g}' for g in range(dyn_sample.size)])\n\n# PCA\nprint(\"Standardising Results\")\nscaling = StandardScaler()\nscaling.fit(df_dyn)\nscaled_data = scaling.transform(df_dyn)\n\nprint(f'Performing PCA on {\"images\" if pool != 0 else \"frequencies\"}')\nmodel = PCA(n_components=pca_components)\nmodel.fit(scaled_data)\nresults = model.transform(scaled_data)\nprint(results.shape)\n\n# Save data\ndf_results = pd.DataFrame(columns=['data', 'label', 'train'])\nfor i, r in enumerate(results):\n    result_str = np.array2string(r, separator=',')\n    df_results = pd.concat([df_results, pd.DataFrame([[result_str, train_data[i][1], i < amount_data * 0.85]], columns=df_results.columns)], ignore_index=True)\n\ndf_results.to_csv(f'freq_RedData/freq_pca{pca_components}_RedData_{iters}i_{f_act.__name__}{\"_pool\" + str(pool) if pool != 0 else \"\"}_{amount_data}.csv', index=False)\nprint(\"Finished!\")"
        }
    ],
    "metadata": {
        "kernelspec": {
            "display_name": "Python 3 (ipykernel)",
            "language": "python",
            "name": "python3"
        },
        "language_info": {
            "codemirror_mode": {
                "name": "ipython",
                "version": 3
            },
            "file_extension": ".py",
            "mimetype": "text/x-python",
            "name": "python",
            "nbconvert_exporter": "python",
            "pygments_lexer": "ipython3",
            "version": "3.9.7"
        },
        "toc": {
            "base_numbering": 1,
            "nav_menu": {},
            "number_sections": true,
            "sideBar": true,
            "skip_h1_title": false,
            "title_cell": "Table of Contents",
            "title_sidebar": "Contents",
            "toc_cell": false,
            "toc_position": {},
            "toc_section_display": true,
            "toc_window_display": false
        }
    },
    "nbformat": 4,
    "nbformat_minor": 5
}