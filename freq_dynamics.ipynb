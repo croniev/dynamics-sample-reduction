{
    "cells": [
        {
            "cell_type": "code",
            "execution_count": 1,
            "id": "cfd17e1e",
            "metadata": {
                "trusted": true
            },
            "outputs": [],
            "source": "from itertools import product\nimport numpy as np\nimport pandas as pd\nimport matplotlib.pyplot as plt\nfrom torch.utils.data import DataLoader\nfrom torchvision import datasets\nfrom torchvision.transforms import ToTensor\n# from torch.nn.functional import relu\n# from torch.nn.functional import tanh\n# from torch.nn.functional import sigmoid\nfrom scipy.fftpack import dct\nfrom scipy.signal import convolve2d\nfrom skimage.measure import block_reduce\nfrom sklearn import svm"
        },
        {
            "cell_type": "markdown",
            "id": "bd9a29a4",
            "metadata": {},
            "source": "## Reduce the data size by shrinking the image and allow symbolic dynamics to occur (based on doppler-effect)."
        },
        {
            "cell_type": "markdown",
            "id": "e5ca705b",
            "metadata": {},
            "source": "### Load the data"
        },
        {
            "cell_type": "code",
            "execution_count": 2,
            "id": "f29558b3",
            "metadata": {
                "trusted": true
            },
            "outputs": [],
            "source": "train_data = datasets.MNIST(\n    root='data',\n    train=True,\n    transform=ToTensor(),\n    download=True,\n)\ntest_data = datasets.MNIST(\n    root='data',\n    train=False,\n    transform=ToTensor(),\n)\ndata_len = {'train': len(train_data), 'test': len(test_data)}\n\nloaders = {\n    'train': DataLoader(train_data,\n                        batch_size=100,\n                        shuffle=True,\n                        num_workers=1),\n\n    'test': DataLoader(test_data,\n                       batch_size=100,\n                       shuffle=True,\n                       num_workers=1),\n}"
        },
        {
            "cell_type": "markdown",
            "id": "cc6f6dc2",
            "metadata": {},
            "source": "### Symbolic dynamics through iteration and non-linearity.\nThrough multiple iterations apply the doppler effect to the DCT of the images and apply convolution.  \nSave the results in a dataframe for easy loading."
        },
        {
            "cell_type": "code",
            "execution_count": 3,
            "id": "d1c05930",
            "metadata": {
                "trusted": true
            },
            "outputs": [],
            "source": "def relu(x):\n    return np.maximum(0, x)\nrelu = np.vectorize(relu)\n# sigmoid = np.vectorize(lambda x: 1 / (1 + np.exp(-x)))\ntanh = np.vectorize(np.tanh)"
        },
        {
            "cell_type": "code",
            "execution_count": 4,
            "id": "6286e9b8",
            "metadata": {
                "trusted": true
            },
            "outputs": [],
            "source": "def apply_dynamics(sample, iters, f_act, vel, v_o, v_m, kernel, conv=False, pool=False):\n    working_sample = np.copy(sample)\n\n    for i in range(iters):\n        v_s = vel(i, iters)\n        # apply doppler effect to sample\n        working_sample = ((v_m + v_o) / (v_m + v_s)) * working_sample  # doppler-effect\n        working_sample = f_act(working_sample)  # activation function\n\n        if conv:\n            working_sample = convolve2d(working_sample, kernel, mode='valid')  # convolution\n\n        if pool and i % 4 == 1:\n            working_sample = block_reduce(working_sample, (2, 2), np.mean, cval=0.5)\n\n    return working_sample"
        },
        {
            "cell_type": "markdown",
            "id": "a2d372db",
            "metadata": {},
            "source": "###### Visualization\nChanging `iters` determines the size of the output (if conv and/or pooling are on)."
        },
        {
            "cell_type": "code",
            "execution_count": 5,
            "id": "d4e9f693",
            "metadata": {
                "trusted": true
            },
            "outputs": [],
            "source": "samples, labels = next(iter(loaders['train']))\nsample = samples[0][0]\n\n# vel_s is negative if moving towards observer\ndef v1(x, n):\n    return -(x + 1) / (n / 3)\ndef v2(x, n):\n    return x\ndef v3(x, n):\n    return 1.5\n\nv_o = 0  # positive if moving towards source\nv_m = 5.022  # small tail to avoid division errors.\nkernel = np.array([[2.5, 2.5],\n                   [2.5, 2.5]])"
        },
        {
            "cell_type": "code",
            "execution_count": 8,
            "id": "b9814fa8",
            "metadata": {
                "scrolled": false,
                "trusted": true
            },
            "outputs": [
                {
                    "name": "stdout",
                    "output_type": "stream",
                    "text": "freq_sample (28, 28)\n[[ 2.61 -0.22 -3.02  0.91  1.67 -1.71 -0.6   1.87 -0.09 -1.32  0.6   0.68\n  -0.75 -0.27  0.48 -0.01 -0.16  0.13  0.06 -0.03 -0.04 -0.09  0.03  0.05\n  -0.06  0.06  0.07 -0.12]\n [-0.19  0.41  0.53 -0.83 -0.88  0.74  0.74 -0.66 -0.37  0.76  0.18 -0.7\n  -0.06  0.46 -0.12 -0.3   0.2   0.21 -0.1  -0.09  0.    0.01  0.01 -0.05\n  -0.03  0.12  0.04 -0.13]\n [-1.1   0.24  1.19 -0.71 -0.38  1.03 -0.37 -0.93  0.83  0.45 -0.98  0.06\n   0.83 -0.37 -0.46  0.45  0.13 -0.35  0.01  0.16  0.   -0.03 -0.07  0.04\n   0.11 -0.14 -0.09  0.22]\n [-0.97 -0.42  0.87  0.73 -0.09 -0.35 -0.07  0.12 -0.12 -0.26  0.14  0.28\n  -0.13 -0.09  0.26 -0.   -0.3  -0.    0.11 -0.07  0.04  0.1  -0.07  0.02\n   0.08 -0.17 -0.08  0.23]\n [-0.88 -0.37  0.83  0.59 -0.22 -0.14  0.18 -0.19 -0.32  0.12  0.16 -0.12\n   0.05  0.22 -0.02 -0.14 -0.04 -0.03  0.01  0.02 -0.04  0.08  0.15 -0.12\n  -0.16  0.15  0.07 -0.23]\n [ 0.43 -0.16 -0.57  0.35  0.39 -0.33 -0.07  0.28 -0.17 -0.22  0.17  0.08\n  -0.07  0.05  0.   -0.05  0.04 -0.02 -0.07  0.06  0.05 -0.06  0.01  0.05\n  -0.02 -0.01  0.   -0.04]\n [ 0.77  0.27 -0.71 -0.45  0.07  0.15  0.18  0.05 -0.14  0.07  0.15 -0.16\n  -0.15  0.13  0.   -0.12  0.1   0.12 -0.07 -0.04  0.03 -0.05 -0.03  0.04\n   0.01  0.03  0.01 -0.06]\n [ 0.93  0.41 -0.9  -0.68  0.31  0.21 -0.3   0.15  0.48 -0.13 -0.31  0.15\n   0.05 -0.28 -0.02  0.19  0.03 -0.    0.06 -0.03 -0.06 -0.01 -0.04 -0.01\n   0.07  0.02 -0.02  0.02]\n [ 0.06  0.19  0.1  -0.28 -0.29  0.05  0.14  0.03  0.05  0.1   0.02 -0.1\n  -0.13 -0.01  0.07  0.   -0.    0.07  0.02 -0.04  0.   -0.03 -0.07  0.06\n   0.06 -0.09 -0.01  0.16]\n [-0.46 -0.16  0.48  0.3  -0.16 -0.16 -0.03 -0.02  0.06  0.08 -0.08 -0.04\n   0.09 -0.01 -0.07  0.06  0.01 -0.08  0.04  0.05 -0.07  0.02  0.1  -0.08\n  -0.1   0.1   0.07 -0.1 ]\n [-0.88 -0.3   0.86  0.47 -0.26 -0.07  0.14 -0.19 -0.24  0.08  0.13 -0.03\n   0.01  0.1   0.04 -0.08 -0.08 -0.01  0.   -0.01  0.05  0.05 -0.03  0.01\n   0.04 -0.08 -0.05  0.09]\n [-0.24 -0.23  0.07  0.34  0.28 -0.04 -0.17 -0.05 -0.05 -0.13 -0.02  0.16\n   0.12 -0.01 -0.04 -0.   -0.03 -0.07 -0.03  0.04  0.04  0.02  0.02  0.\n  -0.02  0.   -0.02 -0.06]\n [ 0.13  0.04 -0.19 -0.13  0.11  0.2   0.05 -0.11 -0.13 -0.01  0.06  0.01\n   0.    0.07  0.01 -0.07 -0.01  0.02 -0.02 -0.01  0.01  0.01  0.02  0.\n  -0.02  0.03 -0.01 -0.08]\n [ 0.66  0.18 -0.66 -0.26  0.22  0.01 -0.06  0.17  0.08 -0.1  -0.03  0.03\n  -0.04 -0.03  0.01  0.02  0.04  0.02 -0.02 -0.    0.   -0.03 -0.01  0.02\n   0.01 -0.    0.    0.  ]\n [ 0.32  0.21 -0.17 -0.31 -0.2   0.01  0.13  0.07  0.07  0.13 -0.03 -0.17\n  -0.05  0.03 -0.03  0.02  0.08  0.02 -0.01  0.01 -0.04 -0.05  0.01  0.01\n  -0.02  0.01  0.04  0.03]\n [ 0.04  0.07  0.04 -0.03 -0.11 -0.15 -0.05  0.16  0.17 -0.01 -0.06  0.01\n  -0.06 -0.1   0.04  0.08 -0.    0.01  0.03 -0.02 -0.01 -0.01 -0.06  0.02\n   0.05 -0.06 -0.01  0.13]\n [-0.37 -0.07  0.41  0.11 -0.18 -0.03  0.04 -0.07 -0.03  0.08  0.05 -0.03\n  -0.05  0.02  0.04 -0.04 -0.04  0.06  0.04 -0.06 -0.02  0.06  0.   -0.06\n  -0.    0.05  0.01 -0.04]\n [-0.23 -0.15  0.12  0.21  0.15  0.   -0.12 -0.08 -0.02 -0.07 -0.01  0.13\n   0.08 -0.06 -0.03  0.04 -0.02 -0.07  0.01  0.05 -0.01 -0.02  0.04  0.01\n  -0.02  0.01 -0.01 -0.06]\n [-0.12 -0.1   0.03  0.09  0.11  0.12  0.02 -0.15 -0.16 -0.01  0.06  0.03\n   0.05  0.08 -0.   -0.08 -0.04  0.02 -0.01 -0.04  0.03  0.06 -0.01 -0.02\n   0.03  0.01 -0.05 -0.04]\n [ 0.1  -0.01 -0.15 -0.02  0.11  0.07 -0.   -0.04 -0.03 -0.02 -0.06 -0.\n   0.11  0.03 -0.08  0.02  0.05 -0.09 -0.05  0.09  0.02 -0.06  0.03  0.05\n  -0.04 -0.03  0.01 -0.  ]\n [ 0.1   0.06 -0.04 -0.07 -0.1  -0.04  0.1   0.08 -0.03  0.01  0.03 -0.09\n  -0.06  0.08  0.04 -0.06  0.01  0.04 -0.04 -0.02  0.04  0.   -0.04  0.02\n   0.01 -0.04  0.01  0.07]\n [ 0.08  0.08 -0.01 -0.08 -0.1  -0.09 -0.01  0.12  0.11 -0.01 -0.04 -0.02\n  -0.06 -0.05  0.04  0.05 -0.01 -0.    0.03  0.   -0.04 -0.01  0.02 -0.02\n  -0.03  0.03  0.04  0.  ]\n [ 0.04  0.04  0.01 -0.03 -0.06 -0.07 -0.    0.07  0.05  0.01  0.03  0.\n  -0.09 -0.05  0.05  0.02 -0.03  0.04  0.05 -0.04 -0.05  0.02  0.   -0.03\n   0.    0.04  0.01 -0.02]\n [ 0.06  0.01 -0.09 -0.03  0.1   0.04 -0.1  -0.04  0.07 -0.   -0.03  0.07\n   0.03 -0.09 -0.04  0.05  0.02  0.    0.02 -0.01 -0.01 -0.01 -0.03  0.01\n   0.05 -0.01 -0.03  0.01]\n [-0.04 -0.01  0.01 -0.02  0.04  0.11  0.01 -0.13 -0.06  0.05  0.02 -0.01\n   0.04  0.02 -0.05 -0.03  0.03  0.01 -0.01 -0.01  0.    0.   -0.    0.\n   0.02  0.01 -0.02 -0.03]\n [-0.04 -0.04  0.01  0.06  0.04  0.01  0.01 -0.03 -0.06 -0.01  0.01 -0.01\n   0.04  0.05 -0.02 -0.04  0.02 -0.01 -0.05  0.02  0.05 -0.02 -0.02  0.03\n   0.   -0.04 -0.01  0.02]\n [-0.12 -0.04  0.12  0.07 -0.06 -0.04  0.04  0.03 -0.03 -0.03 -0.01 -0.01\n   0.01  0.04  0.04 -0.   -0.05 -0.04  0.01  0.02 -0.    0.02  0.04 -0.02\n  -0.05  0.01  0.03 -0.01]\n [-0.06 -0.04  0.07  0.09 -0.04 -0.1   0.03  0.08 -0.02 -0.05  0.01 -0.\n  -0.03  0.03  0.05 -0.   -0.04 -0.03  0.01  0.01 -0.    0.01  0.03 -0.02\n  -0.04  0.    0.03  0.  ]]\nresult (5, 5)\n[[11555.29  7425.62  4604.12  2827.76  1273.06]\n [ 7296.05  4199.69  2558.67  1759.21   888.24]\n [ 5312.01  3217.52  2132.82  1512.01   638.99]\n [ 3659.89  2757.86  2308.54  1732.08   751.37]\n [ 1451.49  1143.6   1022.7    740.5    295.02]]\n"
                }
            ],
            "source": "iters = 6\nf_act = relu\nconv = True\npool = True\n\nfreq_sample = dct(dct(sample.numpy().T, norm='ortho').T, norm='ortho')  # decompose sample\nprint(f\"freq_sample {freq_sample.shape}\\n{np.round(freq_sample, 2)}\")\nresult = apply_dynamics(freq_sample, iters, f_act, v2, v_o, v_m, kernel, conv=conv, pool=pool)\nprint(f\"result {result.shape}\\n{np.round(result, 2)}\")"
        },
        {
            "cell_type": "markdown",
            "id": "ca31df4f",
            "metadata": {},
            "source": "###### Convert all data\nChanging `iters` determines the size of the output."
        },
        {
            "cell_type": "code",
            "execution_count": 9,
            "id": "dddcd17b",
            "metadata": {
                "trusted": true
            },
            "outputs": [
                {
                    "name": "stdout",
                    "output_type": "stream",
                    "text": "Begin reducing train\nReduced [30/600.0] train batches for 6 iterations\nReduced [60/600.0] train batches for 6 iterations\nReduced [90/600.0] train batches for 6 iterations\nReduced [120/600.0] train batches for 6 iterations\nReduced [150/600.0] train batches for 6 iterations\nReduced [180/600.0] train batches for 6 iterations\nReduced [210/600.0] train batches for 6 iterations\nReduced [240/600.0] train batches for 6 iterations\nReduced [270/600.0] train batches for 6 iterations\nReduced [300/600.0] train batches for 6 iterations\nReduced [330/600.0] train batches for 6 iterations\nReduced [360/600.0] train batches for 6 iterations\nReduced [390/600.0] train batches for 6 iterations\nReduced [420/600.0] train batches for 6 iterations\nReduced [450/600.0] train batches for 6 iterations\nReduced [480/600.0] train batches for 6 iterations\nReduced [510/600.0] train batches for 6 iterations\nReduced [540/600.0] train batches for 6 iterations\nReduced [570/600.0] train batches for 6 iterations\nReduced [600/600.0] train batches for 6 iterations\nBegin reducing test\nReduced [30/100.0] test batches for 6 iterations\nReduced [60/100.0] test batches for 6 iterations\nReduced [90/100.0] test batches for 6 iterations\n(70000, 3)\n"
                }
            ],
            "source": "# iters = 18\n# f_act = relu\n# conv = False\n# pool = False\n\ndf_results = pd.DataFrame(columns=['data', 'label', 'train'])\nfor dset in [\"train\", \"test\"]:\n    batch_size = 100\n    batches = data_len[dset] / batch_size\n    print(f\"Begin reducing {dset}\")\n    for b, (images, labels) in enumerate(loaders[dset]):\n        if b == batches:\n            break\n        for i in range(batch_size):\n            freq_sample = dct(dct(images[i].numpy()[0].T, norm='ortho').T, norm='ortho')  # decompose sample\n            result = apply_dynamics(freq_sample, iters, f_act, v2, v_o, v_m, kernel, conv=conv, pool=pool)\n            result_str = np.array2string(result, separator=',')\n            df_results = pd.concat([df_results, pd.DataFrame([[result_str, labels[i].numpy(), dset == \"train\"]], columns=df_results.columns)], ignore_index=True)\n\n        if (b + 1) % 30 == 0:\n            print('Reduced [{}/{}] {} batches for {} iterations'\n                  .format(b + 1, batches, dset, iters))\n\nprint(df_results.shape)\ndf_results.to_csv(f'freq_RedData/freq_RedData_{iters}i_conv{\"_pool\" if pool else \"\"}_{f_act.__name__}.csv', index=False)"
        }
    ],
    "metadata": {
        "kernelspec": {
            "display_name": "Python 3 (ipykernel)",
            "language": "python",
            "name": "python3"
        },
        "language_info": {
            "codemirror_mode": {
                "name": "ipython",
                "version": 3
            },
            "file_extension": ".py",
            "mimetype": "text/x-python",
            "name": "python",
            "nbconvert_exporter": "python",
            "pygments_lexer": "ipython3",
            "version": "3.9.7"
        },
        "toc": {
            "base_numbering": 1,
            "nav_menu": {},
            "number_sections": true,
            "sideBar": true,
            "skip_h1_title": false,
            "title_cell": "Table of Contents",
            "title_sidebar": "Contents",
            "toc_cell": false,
            "toc_position": {},
            "toc_section_display": true,
            "toc_window_display": false
        }
    },
    "nbformat": 4,
    "nbformat_minor": 5
}