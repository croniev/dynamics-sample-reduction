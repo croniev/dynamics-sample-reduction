{
    "cells": [
        {
            "cell_type": "code",
            "execution_count": null,
            "id": "99b09b95",
            "metadata": {
                "trusted": true
            },
            "outputs": [],
            "source": "from itertools import product\nimport numpy as np\nimport pandas as pd\nimport matplotlib.pyplot as plt\nfrom torch.utils.data import DataLoader\nfrom torchvision import datasets\nfrom torchvision.transforms import ToTensor\n# from torch.nn.functional import relu\n# from torch.nn.functional import tanh\n# from torch.nn.functional import sigmoid\nfrom scipy.fftpack import dct\nfrom scipy.signal import convolve2d\nfrom skimage.measure import block_reduce\nfrom sklearn import svm"
        },
        {
            "cell_type": "markdown",
            "id": "6e5ae3e4",
            "metadata": {},
            "source": "## Reduce the data size by shrinking the image and allow symbolic dynamics to occur (based on doppler-effect)."
        },
        {
            "cell_type": "markdown",
            "id": "cb8342c5",
            "metadata": {},
            "source": "### Load the data"
        },
        {
            "cell_type": "code",
            "execution_count": 2,
            "id": "0f453d5f",
            "metadata": {
                "trusted": true
            },
            "outputs": [],
            "source": "train_data = datasets.MNIST(\n    root='data',\n    train=True,\n    transform=ToTensor(),\n    download=True,\n)\ntest_data = datasets.MNIST(\n    root='data',\n    train=False,\n    transform=ToTensor(),\n)\ndata_len = {'train': len(train_data), 'test': len(test_data)}\n\nloaders = {\n    'train': DataLoader(train_data,\n                        batch_size=100,\n                        shuffle=True,\n                        num_workers=1),\n\n    'test': DataLoader(test_data,\n                       batch_size=100,\n                       shuffle=True,\n                       num_workers=1),\n}"
        },
        {
            "cell_type": "markdown",
            "id": "69503159",
            "metadata": {},
            "source": "### Symbolic dynamics through iteration and non-linearity.\nThrough multiple iterations apply the doppler effect to the DCT of the images and apply convolution.  \nSave the results in a dataframe for easy loading."
        },
        {
            "cell_type": "code",
            "execution_count": 3,
            "id": "0cc10b46",
            "metadata": {
                "trusted": true
            },
            "outputs": [],
            "source": "relu = np.vectorize(lambda x: np.maximum(0, x))\n# sigmoid = np.vectorize(lambda x: 1 / (1 + np.exp(-x)))\ntanh = np.vectorize(np.tanh)"
        },
        {
            "cell_type": "code",
            "execution_count": 14,
            "id": "dc15973a",
            "metadata": {
                "trusted": true
            },
            "outputs": [],
            "source": "def apply_dynamics(sample, iters, f_act, vel, v_o, v_m, kernel, conv=False, pool=False):\n    working_sample = np.copy(sample)\n\n    for i in range(iters):\n        v_s = vel(i, iters)\n        # apply doppler effect to sample\n        working_sample = ((v_m + v_o) / (v_m + v_s)) * working_sample  # doppler-effect\n        working_sample = f_act(working_sample)  # activation function\n\n        if conv:\n            working_sample = convolve2d(working_sample, kernel, mode='valid')  # convolution\n\n        # if pool and i % 4 == 1:\n        #     working_sample = block_reduce(working_sample, (2, 2), np.mean, cval=0.5)\n\n    return working_sample"
        },
        {
            "cell_type": "markdown",
            "id": "84fe5d8f",
            "metadata": {},
            "source": "###### Visualization\nChanging `iters` determines the size of the output (if conv and/or pooling are on)."
        },
        {
            "cell_type": "code",
            "execution_count": 18,
            "id": "0bfb15aa",
            "metadata": {
                "trusted": true
            },
            "outputs": [],
            "source": "samples, labels = next(iter(loaders['train']))\nsample = samples[0][0]\n\n# vel_s is negative if moving towards observer\ndef v1(x, n):\n    return -(x + 1) / (n / 3)\ndef v2(x, n):\n    return x\ndef v3(x, n):\n    return 1.5\n\nv_o = 0  # positive if moving towards source\nv_m = 5.022  # small tail to avoid division errors.\nkernel = np.array([[2.5, 2.5],\n                   [2.5, 2.5]])"
        },
        {
            "cell_type": "code",
            "execution_count": 21,
            "id": "5a682ec6",
            "metadata": {
                "scrolled": true,
                "trusted": true
            },
            "outputs": [
                {
                    "name": "stdout",
                    "output_type": "stream",
                    "text": "freq_sample (28, 28)\n[[ 3.19 -0.45 -2.17  0.99 -1.19 -0.85  1.31  0.41  0.07 -0.1  -0.15 -0.05\n  -0.28  0.17  0.16 -0.18 -0.06  0.09  0.13 -0.01 -0.   -0.01 -0.12  0.02\n   0.07  0.01 -0.   -0.09]\n [ 0.02  0.63  0.5  -1.25 -0.8   0.92 -0.12 -0.45  0.84  0.2  -0.5   0.01\n   0.12 -0.14 -0.19  0.12  0.14 -0.1   0.03  0.11 -0.04 -0.06 -0.01  0.01\n  -0.01  0.    0.01 -0.01]\n [-2.44  0.35  1.25 -0.34  1.79 -0.44 -1.43  0.7  -0.56 -0.31  1.01  0.1\n  -0.39 -0.12  0.11 -0.01 -0.04  0.16 -0.09 -0.13  0.03  0.1   0.09 -0.1\n  -0.06  0.01  0.    0.11]\n [-1.58 -0.71  0.86  1.23  0.6  -0.38  0.29 -0.57 -1.07  0.74  0.09 -0.42\n   0.67  0.09 -0.3   0.1   0.05 -0.12 -0.16  0.07  0.06 -0.04  0.07  0.03\n  -0.04 -0.04  0.01  0.06]\n [ 0.58 -0.46 -0.39  0.29 -0.31  0.76  0.22 -0.52  0.6  -0.57 -0.92  0.68\n   0.24 -0.14  0.44  0.02 -0.43 -0.05  0.18 -0.08 -0.07  0.07 -0.04  0.03\n   0.1   0.   -0.06 -0.09]\n [ 1.88  0.06 -1.45 -0.21 -0.23  0.03  0.27  0.62  0.12 -0.71  0.32 -0.12\n  -0.58  0.66  0.09 -0.38  0.28  0.04 -0.18  0.02  0.06 -0.1  -0.05  0.14\n   0.   -0.01  0.03 -0.12]\n [ 0.4   0.46 -0.11 -0.57 -0.38 -0.05  0.15 -0.07  0.01  0.67  0.11 -0.46\n   0.13 -0.25 -0.45  0.43  0.22 -0.17  0.12  0.   -0.13  0.06  0.05 -0.1\n  -0.04  0.03  0.02  0.08]\n [-0.89  0.34  0.88 -0.25 -0.14 -0.32 -0.25 -0.01  0.13  0.35  0.07  0.25\n  -0.13 -0.58  0.19  0.02 -0.22  0.28  0.08 -0.08  0.06  0.07 -0.04 -0.16\n  -0.02  0.03  0.01  0.11]\n [-0.93  0.07  0.85 -0.02 -0.11 -0.11 -0.14  0.06  0.05 -0.04 -0.03  0.05\n   0.04  0.21 -0.03 -0.35  0.08  0.03 -0.13  0.24  0.1  -0.13 -0.04  0.04\n   0.03 -0.06 -0.03  0.03]\n [ 0.36 -0.33 -0.54  0.49  0.43 -0.21 -0.12  0.28 -0.05 -0.38 -0.04  0.01\n   0.09  0.18  0.02  0.08 -0.13 -0.16  0.14 -0.03 -0.09  0.04  0.04  0.09\n  -0.01 -0.01  0.02 -0.18]\n [ 0.57 -0.34 -0.67  0.34  0.29  0.25  0.11 -0.32 -0.2   0.13  0.04 -0.2\n   0.06  0.09 -0.05  0.14  0.1   0.01 -0.13 -0.17  0.05 -0.03  0.03  0.13\n  -0.05 -0.    0.03 -0.04]\n [ 0.15 -0.06 -0.19 -0.07  0.06  0.35  0.08 -0.3  -0.06 -0.01  0.    0.18\n  -0.08 -0.19  0.11  0.11 -0.03  0.03  0.05 -0.1  -0.1   0.13 -0.   -0.19\n   0.13  0.05 -0.11  0.24]\n [-0.49  0.27  0.63 -0.48 -0.47  0.27  0.25 -0.08 -0.02 -0.01 -0.09  0.03\n   0.06  0.12 -0.06 -0.18  0.09 -0.03 -0.05  0.19  0.02 -0.09 -0.01 -0.02\n  -0.07  0.04  0.12 -0.09]\n [-0.15  0.19  0.21 -0.11 -0.09 -0.39 -0.1   0.51  0.14 -0.26 -0.04  0.11\n  -0.04  0.01  0.1  -0.1  -0.12  0.02  0.02  0.05  0.09 -0.03 -0.05  0.1\n  -0.03 -0.08  0.03 -0.11]\n [ 0.14 -0.02 -0.11  0.19  0.08 -0.36 -0.16  0.13  0.08  0.22  0.03 -0.21\n   0.04 -0.02 -0.09  0.11  0.01 -0.04  0.   -0.03 -0.    0.05  0.05 -0.03\n   0.04 -0.03 -0.15  0.08]\n [ 0.36 -0.12 -0.4   0.24  0.25 -0.12 -0.17 -0.08  0.02  0.17  0.14 -0.06\n  -0.1  -0.1  -0.02  0.1   0.02  0.02  0.03 -0.04 -0.04 -0.    0.06 -0.03\n  -0.05  0.05  0.02  0.03]\n [-0.07  0.01  0.12 -0.17 -0.14  0.41  0.11 -0.37 -0.02  0.12 -0.02  0.01\n  -0.    0.01 -0.03 -0.06  0.03  0.09  0.02 -0.05  0.03 -0.03 -0.11  0.03\n   0.01  0.01  0.12 -0.01]\n [-0.14 -0.02  0.13 -0.05 -0.09  0.14  0.13 -0.   -0.06 -0.19 -0.05  0.15\n   0.01 -0.    0.03 -0.04  0.   -0.01  0.04  0.02 -0.07 -0.   -0.01 -0.02\n   0.05  0.03  0.01 -0.03]\n [-0.16 -0.03  0.1   0.05  0.03 -0.07  0.03  0.14 -0.07 -0.15 -0.03  0.03\n   0.05  0.05 -0.01 -0.01  0.05 -0.05 -0.08  0.04 -0.01 -0.02  0.07  0.01\n   0.02 -0.   -0.08  0.  ]\n [ 0.09 -0.04 -0.17  0.11  0.18 -0.18 -0.06  0.18 -0.06 -0.1   0.04 -0.01\n  -0.    0.04  0.05  0.   -0.05 -0.03 -0.04 -0.01  0.06  0.02  0.02  0.02\n  -0.03 -0.04 -0.03  0.02]\n [ 0.    0.07  0.02 -0.14 -0.02  0.12 -0.02 -0.12  0.06  0.12 -0.08 -0.08\n   0.06  0.02  0.    0.03 -0.06 -0.05  0.02  0.02  0.03  0.02  0.01 -0.01\n  -0.06 -0.01  0.05 -0.01]\n [ 0.04  0.03  0.   -0.03 -0.06 -0.   -0.   -0.05  0.05  0.1   0.   -0.05\n  -0.05 -0.01  0.04 -0.01 -0.04  0.04  0.04 -0.05  0.01  0.05 -0.05 -0.03\n   0.03 -0.   -0.01  0.03]\n [ 0.02 -0.03  0.04  0.09 -0.09 -0.09  0.   -0.02  0.04  0.1   0.01 -0.05\n   0.   -0.05 -0.09  0.04  0.08  0.01  0.01 -0.   -0.03 -0.04 -0.    0.02\n   0.    0.02  0.01 -0.04]\n [ 0.08 -0.03 -0.06  0.07  0.01 -0.1  -0.05  0.1   0.02 -0.11  0.09  0.12\n  -0.09 -0.07 -0.02 -0.03  0.05  0.06  0.02  0.   -0.04 -0.04  0.    0.01\n   0.    0.03  0.01 -0.03]\n [-0.06  0.07  0.06 -0.15 -0.03  0.13  0.02 -0.04 -0.03 -0.04  0.03  0.07\n  -0.01 -0.01 -0.04 -0.05  0.07  0.02 -0.03  0.05 -0.01 -0.04 -0.   -0.\n   0.02 -0.02 -0.01  0.07]\n [-0.05  0.04  0.   -0.08  0.04  0.07  0.04 -0.03 -0.07 -0.   -0.02  0.01\n   0.03 -0.01  0.05  0.03 -0.07 -0.02  0.03 -0.02 -0.01  0.05  0.01 -0.04\n   0.   -0.   -0.01  0.03]\n [-0.04 -0.07  0.    0.09  0.03  0.01  0.02 -0.04 -0.01  0.04 -0.1  -0.11\n   0.09  0.08  0.02  0.04 -0.05 -0.06 -0.03 -0.02  0.05  0.03  0.    0.03\n  -0.03 -0.02  0.01 -0.04]\n [ 0.07 -0.12 -0.1   0.2   0.08 -0.11 -0.04  0.09  0.03 -0.08 -0.03 -0.05\n  -0.01  0.11  0.06 -0.01 -0.04 -0.04 -0.03 -0.01  0.03  0.03  0.01  0.01\n  -0.02  0.01 -0.   -0.05]]\nresult (4, 4)\n[[-2.67  2.47  6.23  8.53]\n [-8.36 -6.01 -2.09  3.48]\n [-9.22 -9.19 -8.42 -4.42]\n [-7.7  -9.12 -9.28 -8.64]]\n"
                }
            ],
            "source": "iters = 24\n\nfreq_sample = dct(dct(sample.numpy().T, norm='ortho').T, norm='ortho')  # decompose sample\nprint(f\"freq_sample {freq_sample.shape}\\n{np.round(freq_sample, 2)}\")\nresult = apply_dynamics(freq_sample, iters, tanh, v2, v_o, v_m, kernel, conv=True)\nprint(f\"result {result.shape}\\n{np.round(result, 2)}\")"
        },
        {
            "cell_type": "markdown",
            "id": "53351bac",
            "metadata": {},
            "source": "###### Convert all data\nChanging `iters` determines the size of the output."
        },
        {
            "cell_type": "code",
            "execution_count": 25,
            "id": "3de8a10d",
            "metadata": {
                "trusted": true
            },
            "outputs": [
                {
                    "name": "stdout",
                    "output_type": "stream",
                    "text": "Begin reducing train\nReduced [30/600.0] train batches for 18 iterations\nReduced [60/600.0] train batches for 18 iterations\nReduced [90/600.0] train batches for 18 iterations\nReduced [120/600.0] train batches for 18 iterations\nReduced [150/600.0] train batches for 18 iterations\nReduced [180/600.0] train batches for 18 iterations\nReduced [210/600.0] train batches for 18 iterations\nReduced [240/600.0] train batches for 18 iterations\nReduced [270/600.0] train batches for 18 iterations\nReduced [300/600.0] train batches for 18 iterations\nReduced [330/600.0] train batches for 18 iterations\nReduced [360/600.0] train batches for 18 iterations\nReduced [390/600.0] train batches for 18 iterations\nReduced [420/600.0] train batches for 18 iterations\nReduced [450/600.0] train batches for 18 iterations\nReduced [480/600.0] train batches for 18 iterations\nReduced [510/600.0] train batches for 18 iterations\nReduced [540/600.0] train batches for 18 iterations\nReduced [570/600.0] train batches for 18 iterations\nReduced [600/600.0] train batches for 18 iterations\nBegin reducing test\nReduced [30/100.0] test batches for 18 iterations\nReduced [60/100.0] test batches for 18 iterations\nReduced [90/100.0] test batches for 18 iterations\n(70000, 3)\n"
                }
            ],
            "source": "iters = 18\nf_act = tanh\n\ndf_results = pd.DataFrame(columns=['data', 'label', 'train'])\nfor dset in [\"train\", \"test\"]:\n    batch_size = 100\n    batches = data_len[dset] / batch_size\n    print(f\"Begin reducing {dset}\")\n    for b, (images, labels) in enumerate(loaders[dset]):\n        if b == batches:\n            break\n        for i in range(batch_size):\n            freq_sample = dct(dct(images[i].numpy()[0].T, norm='ortho').T, norm='ortho')  # decompose sample\n            result = apply_dynamics(freq_sample, iters, f_act, v2, v_o, v_m, kernel, conv=True)\n            result_str = np.array2string(result, separator=',')\n            df_results = pd.concat([df_results, pd.DataFrame([[result_str, labels[i].numpy(), dset == \"train\"]], columns=df_results.columns)], ignore_index=True)\n\n        if (b + 1) % 30 == 0:\n            print('Reduced [{}/{}] {} batches for {} iterations'\n                  .format(b + 1, batches, dset, iters))\n\nprint(df_results.shape)\ndf_results.to_csv(f'freq_RedData/freq_RedData_{iters}i_conv_tanh.csv', index=False)"
        }
    ],
    "metadata": {
        "kernelspec": {
            "display_name": "Python 3 (ipykernel)",
            "language": "python",
            "name": "python3"
        },
        "language_info": {
            "codemirror_mode": {
                "name": "ipython",
                "version": 3
            },
            "file_extension": ".py",
            "mimetype": "text/x-python",
            "name": "python",
            "nbconvert_exporter": "python",
            "pygments_lexer": "ipython3",
            "version": "3.9.7"
        },
        "toc": {
            "base_numbering": 1,
            "nav_menu": {},
            "number_sections": true,
            "sideBar": true,
            "skip_h1_title": false,
            "title_cell": "Table of Contents",
            "title_sidebar": "Contents",
            "toc_cell": false,
            "toc_position": {},
            "toc_section_display": true,
            "toc_window_display": false
        }
    },
    "nbformat": 4,
    "nbformat_minor": 5
}