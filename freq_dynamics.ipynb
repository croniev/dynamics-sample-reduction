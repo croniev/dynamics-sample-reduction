{
    "cells": [
        {
            "cell_type": "code",
            "execution_count": 1,
            "id": "5cf0058e",
            "metadata": {
                "trusted": true
            },
            "outputs": [],
            "source": "from itertools import product\nimport numpy as np\nimport pandas as pd\nimport matplotlib.pyplot as plt\nfrom torch.utils.data import DataLoader\nfrom torchvision import datasets\nfrom torchvision.transforms import ToTensor\n# from torch.nn.functional import relu\n# from torch.nn.functional import tanh\n# from torch.nn.functional import sigmoid\nfrom scipy.fftpack import dct\nfrom scipy.signal import convolve2d\nfrom skimage.measure import block_reduce"
        },
        {
            "cell_type": "markdown",
            "id": "1c3764ba",
            "metadata": {},
            "source": "## Reduce the data size by shrinking the image and allow symbolic dynamics to occur (based on doppler-effect)."
        },
        {
            "cell_type": "markdown",
            "id": "eca5f0c8",
            "metadata": {},
            "source": "### Load the data"
        },
        {
            "cell_type": "code",
            "execution_count": 2,
            "id": "240ccb16",
            "metadata": {
                "trusted": true
            },
            "outputs": [],
            "source": "train_data = datasets.MNIST(\n    root='data',\n    train=True,\n    transform=ToTensor(),\n    download=True,\n)\ntest_data = datasets.MNIST(\n    root='data',\n    train=False,\n    transform=ToTensor(),\n)\ndata_len = {'train': len(train_data), 'test': len(test_data)}\n\nloaders = {\n    'train': DataLoader(train_data,\n                        batch_size=100,\n                        shuffle=True,\n                        num_workers=1),\n\n    'test': DataLoader(test_data,\n                       batch_size=100,\n                       shuffle=True,\n                       num_workers=1),\n}"
        },
        {
            "cell_type": "markdown",
            "id": "1d117ba8",
            "metadata": {},
            "source": "### Symbolic dynamics through iteration and non-linearity.\nThrough multiple iterations apply the doppler effect to the DCT of the images and apply convolution.  \nSave the results in a dataframe for easy loading."
        },
        {
            "cell_type": "code",
            "execution_count": 3,
            "id": "f201040a",
            "metadata": {
                "trusted": true
            },
            "outputs": [],
            "source": "def relu(x):\n    return np.maximum(0, x)\nrelu = np.vectorize(relu)\n# sigmoid = np.vectorize(lambda x: 1 / (1 + np.exp(-x)))\ntanh = np.vectorize(np.tanh)\n\ndef lrelu(x):\n    l_ = 0.025\n    return np.maximum(0, x) + l_ * np.minimum(0, x)\nlrelu = np.vectorize(lrelu)\n\ndef rrelu(x):\n    return np.maximum(0, x) + np.random.rand() / 10 * np.minimum(0, x)\nrrelu = np.vectorize(rrelu)\n\ndef elu(x):\n    l_ = 0.05\n    return np.maximum(0, x) + np.minimum(l_ * np.expm1(x), 0)\nelu = np.vectorize(elu)"
        },
        {
            "cell_type": "code",
            "execution_count": 4,
            "id": "cc725cab",
            "metadata": {
                "trusted": true
            },
            "outputs": [],
            "source": "def apply_dynamics(sample, iters, f_act, vel, v_o, v_m, kernel, conv=False, pool=False, p=1):\n    working_sample = np.copy(sample)\n\n    for i in range(iters):\n        v_s = vel(i, iters)\n        # apply doppler effect to sample\n        working_sample = ((v_m + v_o) / (v_m + v_s)) * working_sample  # doppler-effect\n        working_sample = f_act(working_sample)  # activation function\n\n        if conv:\n            working_sample = convolve2d(working_sample, kernel, mode='valid')  # convolution\n\n        if pool and i % 4 == 1:\n            working_sample = block_reduce(working_sample, (2, 2), cval=0.5, func=pool, func_kwargs={'p': p})\n\n    return working_sample"
        },
        {
            "cell_type": "markdown",
            "id": "d13ef33b",
            "metadata": {},
            "source": "###### Visualization\nChanging `iters` determines the size of the output (if conv and/or pooling are on)."
        },
        {
            "cell_type": "code",
            "execution_count": 5,
            "id": "9a7cdfc1",
            "metadata": {
                "trusted": true
            },
            "outputs": [],
            "source": "samples, labels = next(iter(loaders['train']))\nsample = samples[0][0]\n\n# vel_s is negative if moving towards observer\ndef v1(x, n):\n    return -(x + 1) / (n / 3)\ndef v2(x, n):\n    return x\ndef v3(x, n):\n    return 1.5\n\nv_o = 0  # positive if moving towards source\nv_m = 5.022  # small tail to avoid division errors.\nkernel = np.array([[0.25, 0.25],\n                   [0.25, 0.25]])\n\ndef lppool(x, axis, p):\n    return np.power(np.sum(np.power(x, p), axis) * 1 / 4, 1 / p)\n\ndef mixedpool(x, axis, p):\n    return p * np.max(x, axis) + (1 - p) * np.mean(x, axis)"
        },
        {
            "cell_type": "code",
            "execution_count": 6,
            "id": "e28a6b3e",
            "metadata": {
                "trusted": true
            },
            "outputs": [
                {
                    "name": "stdout",
                    "output_type": "stream",
                    "text": "freq_sample (28, 28)\nresult (5, 5)\n[[0.024091 0.016779 0.010254 0.004462 0.301437]\n [0.01286  0.009811 0.006545 0.003823 0.301553]\n [0.007141 0.005686 0.004318 0.003378 0.301488]\n [0.003889 0.003746 0.003433 0.002906 0.30119 ]\n [0.301655 0.301507 0.301296 0.300978 0.40044 ]]\n"
                }
            ],
            "source": "iters = 6\nf_act = relu  # relu, tanh, lrelu, rrelu, elu\nconv = True\npool = mixedpool  # False, lppool, mixedpool\np = 0.2\n\nfreq_sample = dct(dct(sample.numpy().T, norm='ortho').T, norm='ortho')  # decompose sample\nprint(f\"freq_sample {freq_sample.shape}\")#\\n{np.round(freq_sample, 2)}\")\nresult = apply_dynamics(freq_sample, iters, f_act, v2, v_o, v_m, kernel, conv=conv, pool=pool, p=p)\nprint(f\"result {result.shape}\\n{np.round(result, 6)}\")"
        },
        {
            "cell_type": "markdown",
            "id": "fcd463df",
            "metadata": {},
            "source": "###### Convert all data\nChanging `iters` determines the size of the output."
        },
        {
            "cell_type": "code",
            "execution_count": 7,
            "id": "c6ab9a10",
            "metadata": {
                "trusted": true
            },
            "outputs": [
                {
                    "name": "stdout",
                    "output_type": "stream",
                    "text": "Begin reducing train\nReduced [30/600.0] train batches\nReduced [60/600.0] train batches\nReduced [90/600.0] train batches\nReduced [120/600.0] train batches\nReduced [150/600.0] train batches\nReduced [180/600.0] train batches\nReduced [210/600.0] train batches\nReduced [240/600.0] train batches\nReduced [270/600.0] train batches\nReduced [300/600.0] train batches\nReduced [330/600.0] train batches\nReduced [360/600.0] train batches\nReduced [390/600.0] train batches\nReduced [420/600.0] train batches\nReduced [450/600.0] train batches\nReduced [480/600.0] train batches\nReduced [510/600.0] train batches\nReduced [540/600.0] train batches\nReduced [570/600.0] train batches\nReduced [600/600.0] train batches\nBegin reducing test\nReduced [30/100.0] test batches\nReduced [60/100.0] test batches\nReduced [90/100.0] test batches\n(70000, 3)\n"
                }
            ],
            "source": "df_results = pd.DataFrame(columns=['data', 'label', 'train'])\nfor dset in [\"train\", \"test\"]:\n    batch_size = 100\n    batches = data_len[dset] / batch_size\n    print(f\"Begin reducing {dset}\")\n    for b, (images, labels) in enumerate(loaders[dset]):\n        if b == batches:\n            break\n        for i in range(batch_size):\n            freq_sample = dct(dct(images[i].numpy()[0].T, norm='ortho').T, norm='ortho')  # decompose sample\n            result = apply_dynamics(freq_sample, iters, f_act, v2, v_o, v_m, kernel, conv=conv, pool=pool, p=p)\n            result_str = np.array2string(result, separator=',')\n            df_results = pd.concat([df_results, pd.DataFrame([[result_str, labels[i].numpy(), dset == \"train\"]], columns=df_results.columns)], ignore_index=True)\n\n        if (b + 1) % 30 == 0:\n            print('Reduced [{}/{}] {} batches'\n                  .format(b + 1, batches, dset))\n\nprint(df_results.shape)\ndf_results.to_csv(f'freq_RedData/freq_RedData_{iters}i_conv{\"_\" + pool.__name__ + str(p).replace(\".\", \"\") if pool else \"\"}_{f_act.__name__}.csv', index=False)"
        }
    ],
    "metadata": {
        "kernelspec": {
            "display_name": "Python 3 (ipykernel)",
            "language": "python",
            "name": "python3"
        },
        "language_info": {
            "codemirror_mode": {
                "name": "ipython",
                "version": 3
            },
            "file_extension": ".py",
            "mimetype": "text/x-python",
            "name": "python",
            "nbconvert_exporter": "python",
            "pygments_lexer": "ipython3",
            "version": "3.9.7"
        },
        "toc": {
            "base_numbering": 1,
            "nav_menu": {},
            "number_sections": true,
            "sideBar": true,
            "skip_h1_title": false,
            "title_cell": "Table of Contents",
            "title_sidebar": "Contents",
            "toc_cell": false,
            "toc_position": {},
            "toc_section_display": true,
            "toc_window_display": false
        }
    },
    "nbformat": 4,
    "nbformat_minor": 5
}