{
    "cells": [
        {
            "cell_type": "code",
            "execution_count": 14,
            "id": "e998ef59",
            "metadata": {
                "trusted": true
            },
            "outputs": [],
            "source": "from itertools import product, filterfalse\nimport numpy as np\nimport pandas as pd\nimport matplotlib.pyplot as plt\nfrom torch.utils.data import DataLoader\nfrom torchvision import datasets\nfrom torchvision.transforms import ToTensor"
        },
        {
            "cell_type": "code",
            "execution_count": 2,
            "id": "d34fb3c8",
            "metadata": {
                "trusted": true
            },
            "outputs": [
                {
                    "name": "stdout",
                    "output_type": "stream",
                    "text": "{'train': 60000, 'test': 10000}\n"
                }
            ],
            "source": "# Import original dataset\ntrain_data = datasets.MNIST(\n    root='data',\n    train=True,\n    transform=ToTensor(),\n    download=True,\n)\ntest_data = datasets.MNIST(\n    root='data',\n    train=False,\n    transform=ToTensor(),\n)\ndata_len = {'train': len(train_data), 'test': len(test_data)}\nprint(data_len)"
        },
        {
            "cell_type": "markdown",
            "id": "84718649",
            "metadata": {},
            "source": "## Set up functions and parameters"
        },
        {
            "cell_type": "code",
            "execution_count": 98,
            "id": "f54931dc",
            "metadata": {
                "trusted": true
            },
            "outputs": [],
            "source": "# ARBITRARY PARAMS\n# Velocity of medium\nv_m = 1\n# Velocity of source\n# positive if moving away from observer\nv_s = 0\n# Assumed source frequency\nf_s_0 = 0.6\n# Distance of observer to pos 0 (on 3rd axis)\nl_0 = 1\n# Distance between neighboring positions\n# Decrease l_x to increase effect of neighbors (l_x -> 0 means v_x -> v_0)\nl_x = 0.01"
        },
        {
            "cell_type": "code",
            "execution_count": 4,
            "id": "9e965be8",
            "metadata": {
                "trusted": true
            },
            "outputs": [],
            "source": "# Input: Observed frequency of pos 0 (positive if moving towards source)\ndef calcVelocity(f_o_0):\n    v_0 = (v_m + v_s) / f_s_0 * f_o_0 - v_m\n    return v_0\n\n# Input: Two positions of a 2d array\n# Returns: Their distance, assuming that neighboring positions have distance l_x\ndef calcDist(pos1, pos2):\n    return l_x * np.sqrt((pos1[0] - pos2[0])**2 + (pos1[1] - pos2[1])**2)\n\n# Input: Observer velocity, observed frequency of neighbor pos, distance of neighbor pos\n# Returns: source frequency of neighbor (doppler effect using observer velocity relative to neighbor in 3rd axis)\ndef applyVelocity(v_0, f_o_x, dist):\n    v_x = v_0 * l_0 / np.sqrt(dist**2 + l_0**2)\n    f_s_x = f_o_x * (v_m + v_s) / (v_m + v_x)\n    return f_s_x"
        },
        {
            "cell_type": "markdown",
            "id": "6e3fcf6d",
            "metadata": {},
            "source": "## Apply symbol dynamics to images"
        },
        {
            "cell_type": "code",
            "execution_count": 94,
            "id": "26be94f8",
            "metadata": {
                "trusted": true
            },
            "outputs": [],
            "source": "def dynamics_iteration(img):\n    new_img = np.zeros_like(img)\n    img_positions = [(x, y) for x in range(img.shape[0]) for y in range(img.shape[1])]\n    for pos_0 in img_positions:  # reference position\n        v_0 = calcVelocity(img[pos_0])\n        for pos_x in filterfalse(lambda pos_x: pos_x == pos_0, img_positions):  # all other positions\n            dist = calcDist(pos_0, pos_x)\n            new_img[pos_x] += applyVelocity(v_0, img[pos_x], dist)\n    new_img = new_img / (img.size - 1)  # Average -- ???\n    new_img = new_img / new_img.max()  # keep values between 0 and 1\n    return new_img\n\ndef image_dynamics(img, iters):\n    working_img = np.copy(img)\n    working_img += 0.1  # avoid 0s\n    working_img = working_img / working_img.max()\n    for i in range(iters):\n        working_img = dynamics_iteration(working_img)\n\n    # print(working_img - img)\n    return working_img"
        },
        {
            "cell_type": "code",
            "execution_count": 99,
            "id": "a4ee414e",
            "metadata": {
                "scrolled": true,
                "trusted": true
            },
            "outputs": [
                {
                    "data": {
                        "text/plain": "<matplotlib.image.AxesImage at 0x775bc0979ac0>"
                    },
                    "execution_count": 99,
                    "metadata": {},
                    "output_type": "execute_result"
                },
                {
                    "data": {
                        "image/png": "[encoded data removed]",
                        "text/plain": "<Figure size 640x480 with 2 Axes>"
                    },
                    "metadata": {},
                    "output_type": "display_data"
                }
            ],
            "source": "iters = 5\n\nimg = train_data[0][0][0].numpy()\nresult = image_dynamics(img, iters)\n\nfig, axs = plt.subplots(1, 2)\naxs[0].set_title(\"Original\")\naxs[1].set_title(\"Result\")\naxs[0].imshow(img, cmap='gray')\naxs[1].imshow(result, cmap='gray')"
        }
    ],
    "metadata": {
        "kernelspec": {
            "display_name": "Python 3 (ipykernel)",
            "language": "python",
            "name": "python3"
        },
        "language_info": {
            "codemirror_mode": {
                "name": "ipython",
                "version": 3
            },
            "file_extension": ".py",
            "mimetype": "text/x-python",
            "name": "python",
            "nbconvert_exporter": "python",
            "pygments_lexer": "ipython3",
            "version": "3.9.7"
        },
        "toc": {
            "base_numbering": 1,
            "nav_menu": {},
            "number_sections": true,
            "sideBar": true,
            "skip_h1_title": false,
            "title_cell": "Table of Contents",
            "title_sidebar": "Contents",
            "toc_cell": false,
            "toc_position": {},
            "toc_section_display": true,
            "toc_window_display": false
        }
    },
    "nbformat": 4,
    "nbformat_minor": 5
}