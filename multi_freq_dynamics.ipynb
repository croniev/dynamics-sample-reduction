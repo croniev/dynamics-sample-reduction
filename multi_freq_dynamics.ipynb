{
    "cells": [
        {
            "cell_type": "code",
            "execution_count": 1,
            "id": "33381e4a",
            "metadata": {
                "trusted": true
            },
            "outputs": [],
            "source": "from itertools import product\nimport numpy as np\nimport pandas as pd\nimport matplotlib.pyplot as plt\nfrom torch.utils.data import DataLoader\nfrom torchvision import datasets\nfrom torchvision.transforms import ToTensor\n# from torch.nn.functional import relu\n# from torch.nn.functional import tanh\n# from torch.nn.functional import sigmoid\nfrom scipy.fftpack import dct\nfrom scipy.signal import convolve2d\nfrom skimage.measure import block_reduce\nfrom sklearn import svm"
        },
        {
            "cell_type": "markdown",
            "id": "0746169f",
            "metadata": {},
            "source": "## Reduce the data size by shrinking the image and allow symbolic dynamics to occur (based on doppler-effect)."
        },
        {
            "cell_type": "markdown",
            "id": "ef3e6cd1",
            "metadata": {},
            "source": "### Load the data"
        },
        {
            "cell_type": "code",
            "execution_count": 2,
            "id": "6997852d",
            "metadata": {
                "trusted": true
            },
            "outputs": [],
            "source": "train_data = datasets.MNIST(\n    root='data',\n    train=True,\n    transform=ToTensor(),\n    download=True,\n)\ntest_data = datasets.MNIST(\n    root='data',\n    train=False,\n    transform=ToTensor(),\n)\ndata_len = {'train': len(train_data), 'test': len(test_data)}\n\nloaders = {\n    'train': DataLoader(train_data,\n                        batch_size=100,\n                        shuffle=True,\n                        num_workers=1),\n\n    'test': DataLoader(test_data,\n                       batch_size=100,\n                       shuffle=True,\n                       num_workers=1),\n}"
        },
        {
            "cell_type": "markdown",
            "id": "e89d7185",
            "metadata": {},
            "source": "### Symbolic dynamics through iteration and non-linearity.\nThrough multiple iterations apply the doppler effect to the DCT of the images and apply convolution.  \nSave the results in a dataframe for easy loading."
        },
        {
            "cell_type": "code",
            "execution_count": 3,
            "id": "bb449642",
            "metadata": {
                "trusted": true
            },
            "outputs": [],
            "source": "def relu(x):\n    return np.maximum(0, x)\nrelu = np.vectorize(relu)\n# sigmoid = np.vectorize(lambda x: 1 / (1 + np.exp(-x)))\ntanh = np.vectorize(np.tanh)"
        },
        {
            "cell_type": "code",
            "execution_count": 43,
            "id": "85860bef",
            "metadata": {
                "trusted": true
            },
            "outputs": [],
            "source": "def apply_dynamics(sample, iters, f_act, vel, v_o, v_m, kernels, conv=False, pool=False):\n    final_sample = np.zeros(0)\n\n    for k in kernels:\n        working_sample = np.copy(sample)\n\n        for i in range(iters):\n            v_s = vel(i, iters)\n            # apply doppler effect to sample\n            working_sample = ((v_m + v_o) / (v_m + v_s)) * working_sample  # doppler-effect\n            working_sample = f_act(working_sample)  # activation function\n\n            if conv:\n                working_sample = convolve2d(working_sample, k, mode='valid')  # convolution\n\n            if pool and i % 4 == 1:\n                working_sample = block_reduce(working_sample, (2, 2), np.mean, cval=0.5)  # pooling\n\n        final_sample = np.concat((final_sample, working_sample.reshape(working_sample.size) * 100))  # combine results of kernels\n\n    return final_sample"
        },
        {
            "cell_type": "markdown",
            "id": "c0a65375",
            "metadata": {},
            "source": "###### Visualization\nChanging `iters` determines the size of the output (if conv and/or pooling are on)."
        },
        {
            "cell_type": "code",
            "execution_count": 34,
            "id": "2a9ec64f",
            "metadata": {
                "trusted": true
            },
            "outputs": [],
            "source": "samples, labels = next(iter(loaders['train']))\nsample = samples[0][0]\n\n# vel_s is negative if moving towards observer\ndef v1(x, n):\n    return -(x + 1) / (n / 3)\ndef v2(x, n):\n    return x\ndef v3(x, n):\n    return 1.5\n\nv_o = 0  # positive if moving towards source\nv_m = 5.022  # small tail to avoid division errors.\nkernels = np.array([\n    [[0.25, 0.25],\n     [0.25, 0.25]],  # Avg kernel\n    [[0.5, 0.5],\n     [0, 0]],  # Horizontal kernel\n    [[0.5, 0],\n     [0.5, 0]],  # Vertical kernel\n    [[0.5, 0],\n     [0, 0.5]],  # Diagonal down kernel\n    [[0, 0.5],\n     [0.5, 0]]  # Diagonal up kernel\n])"
        },
        {
            "cell_type": "code",
            "execution_count": 45,
            "id": "e4a52fe0",
            "metadata": {
                "trusted": true
            },
            "outputs": [
                {
                    "name": "stdout",
                    "output_type": "stream",
                    "text": "freq_sample (28, 28)\n\nresult (80,)\n[ 0.52  0.51  0.35  5.85  0.19  0.23  0.21  5.81  0.09  0.09  0.09  5.76\n  5.75  5.75  5.75 10.01  0.1   0.09  0.08  5.75  0.06  0.07  0.07  5.75\n  0.08  0.07  0.06  5.75 11.42 11.42 11.43 14.27  0.4   0.18  0.08 11.43\n  0.25  0.15  0.09 11.44  0.08  0.08  0.1  11.46  5.74  5.75  5.78 14.29\n  0.48  0.79  0.44  5.83  0.13  0.16  0.29  5.89  0.09  0.09  0.08  5.77\n  5.75  5.75  5.75  8.59  0.48  0.42  0.29  5.83  0.22  0.22  0.16  5.77\n  0.09  0.09  0.09  5.74  5.75  5.76  5.74 11.43]\n"
                }
            ],
            "source": "iters = 7\nf_act = relu  # relu, tanh\nconv = True\npool = True\n\nfreq_sample = dct(dct(sample.numpy().T, norm='ortho').T, norm='ortho')  # decompose sample\nprint(f\"freq_sample {freq_sample.shape}\\n\")  # {np.round(freq_sample, 2)}\")\nresult = apply_dynamics(freq_sample, iters, f_act, v2, v_o, v_m, kernels, conv=conv, pool=pool)\nprint(f\"result {result.shape}\\n{np.round(result, 2)}\")"
        },
        {
            "cell_type": "markdown",
            "id": "4c775544",
            "metadata": {},
            "source": "###### Convert all data\nChanging `iters` determines the size of the output."
        },
        {
            "cell_type": "code",
            "execution_count": 46,
            "id": "3caadcdd",
            "metadata": {
                "trusted": true
            },
            "outputs": [
                {
                    "name": "stdout",
                    "output_type": "stream",
                    "text": "Begin reducing train\nReduced [30/600.0] train batches for 7 iterations\nReduced [60/600.0] train batches for 7 iterations\nReduced [90/600.0] train batches for 7 iterations\nReduced [120/600.0] train batches for 7 iterations\nReduced [150/600.0] train batches for 7 iterations\nReduced [180/600.0] train batches for 7 iterations\nReduced [210/600.0] train batches for 7 iterations\nReduced [240/600.0] train batches for 7 iterations\nReduced [270/600.0] train batches for 7 iterations\nReduced [300/600.0] train batches for 7 iterations\nReduced [330/600.0] train batches for 7 iterations\nReduced [360/600.0] train batches for 7 iterations\nReduced [390/600.0] train batches for 7 iterations\nReduced [420/600.0] train batches for 7 iterations\nReduced [450/600.0] train batches for 7 iterations\nReduced [480/600.0] train batches for 7 iterations\nReduced [510/600.0] train batches for 7 iterations\nReduced [540/600.0] train batches for 7 iterations\nReduced [570/600.0] train batches for 7 iterations\nReduced [600/600.0] train batches for 7 iterations\nBegin reducing test\nReduced [30/100.0] test batches for 7 iterations\nReduced [60/100.0] test batches for 7 iterations\nReduced [90/100.0] test batches for 7 iterations\n(70000, 3)\n"
                }
            ],
            "source": "# iters = 18\n# f_act = relu\n# conv = False\n# pool = False\n\ndf_results = pd.DataFrame(columns=['data', 'label', 'train'])\nfor dset in [\"train\", \"test\"]:\n    batch_size = 100\n    batches = data_len[dset] / batch_size\n    print(f\"Begin reducing {dset}\")\n    for b, (images, labels) in enumerate(loaders[dset]):\n        if b == batches:\n            break\n        for i in range(batch_size):\n            freq_sample = dct(dct(images[i].numpy()[0].T, norm='ortho').T, norm='ortho')  # decompose sample\n            result = apply_dynamics(freq_sample, iters, f_act, v2, v_o, v_m, kernels, conv=conv, pool=pool)\n            result_str = np.array2string(result, separator=',')\n            df_results = pd.concat([df_results, pd.DataFrame([[result_str, labels[i].numpy(), dset == \"train\"]], columns=df_results.columns)], ignore_index=True)\n\n        if (b + 1) % 30 == 0:\n            print('Reduced [{}/{}] {} batches for {} iterations'\n                  .format(b + 1, batches, dset, iters))\n\nprint(df_results.shape)\ndf_results.to_csv(f'freq_RedData/multi5_freq_RedData_{iters}i_conv{\"_pool\" if pool else \"\"}_{f_act.__name__}.csv', index=False)"
        }
    ],
    "metadata": {
        "kernelspec": {
            "display_name": "Python 3 (ipykernel)",
            "language": "python",
            "name": "python3"
        },
        "language_info": {
            "codemirror_mode": {
                "name": "ipython",
                "version": 3
            },
            "file_extension": ".py",
            "mimetype": "text/x-python",
            "name": "python",
            "nbconvert_exporter": "python",
            "pygments_lexer": "ipython3",
            "version": "3.9.7"
        },
        "toc": {
            "base_numbering": 1,
            "nav_menu": {},
            "number_sections": true,
            "sideBar": true,
            "skip_h1_title": false,
            "title_cell": "Table of Contents",
            "title_sidebar": "Contents",
            "toc_cell": false,
            "toc_position": {},
            "toc_section_display": true,
            "toc_window_display": false
        }
    },
    "nbformat": 4,
    "nbformat_minor": 5
}